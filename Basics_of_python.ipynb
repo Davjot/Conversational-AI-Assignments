{
  "nbformat": 4,
  "nbformat_minor": 0,
  "metadata": {
    "colab": {
      "name": "Assignment 1.ipynb",
      "provenance": [],
      "authorship_tag": "ABX9TyPHeHbH4b2/ywr2QnVvmQR0",
      "include_colab_link": true
    },
    "kernelspec": {
      "name": "python3",
      "display_name": "Python 3"
    },
    "language_info": {
      "name": "python"
    }
  },
  "cells": [
    {
      "cell_type": "markdown",
      "metadata": {
        "id": "view-in-github",
        "colab_type": "text"
      },
      "source": [
        "<a href=\"https://colab.research.google.com/github/Davjot/Conversational-AI-Assignments/blob/main/Assignment_1.ipynb\" target=\"_parent\"><img src=\"https://colab.research.google.com/assets/colab-badge.svg\" alt=\"Open In Colab\"/></a>"
      ]
    },
    {
      "cell_type": "markdown",
      "source": [
        "Q1\n"
      ],
      "metadata": {
        "id": "eIHtJV3uLSFy"
      }
    },
    {
      "cell_type": "code",
      "execution_count": null,
      "metadata": {
        "colab": {
          "base_uri": "https://localhost:8080/"
        },
        "id": "Z9rX9qc9JK05",
        "outputId": "a2f10d19-b3c8-49c0-85d7-94d1899f48d6"
      },
      "outputs": [
        {
          "output_type": "stream",
          "name": "stdout",
          "text": [
            "enter a letter: M\n",
            "the given character is M is a consonant\n"
          ]
        }
      ],
      "source": [
        "vowel = input('enter a letter: ')\n",
        "\n",
        "if(vowel == 'a' or vowel == 'e' or vowel == 'i' or vowel == 'o' or vowel == 'u' or vowel == 'A' or vowel == 'E' or vowel == 'I' or vowel == 'O' or vowel == 'U'):\n",
        "   print('the given character is', vowel, 'is a vowel')\n",
        "else:\n",
        "  print('the given character is',vowel, 'is a consonant')\n"
      ]
    },
    {
      "cell_type": "markdown",
      "source": [
        "Q2"
      ],
      "metadata": {
        "id": "Ccqi1BeCLUS4"
      }
    },
    {
      "cell_type": "code",
      "source": [
        "color_list_1 = set(['white', 'black', 'red'])\n",
        "color_list_2 = set(['red', 'green'])\n",
        "\n",
        "print(color_list_1)\n",
        "print(color_list_2)\n",
        "\n",
        "# this will print colors difference in list 1 for 2\n",
        "print(color_list_1.difference(color_list_2))\n",
        "\n",
        "# this will print colors difference in list 1 for 2\n",
        "print(color_list_2.difference(color_list_1))"
      ],
      "metadata": {
        "colab": {
          "base_uri": "https://localhost:8080/"
        },
        "id": "j8Sq-2b0LVTL",
        "outputId": "b3772f7b-8811-4239-996d-e3a8c92e89ae"
      },
      "execution_count": null,
      "outputs": [
        {
          "output_type": "stream",
          "name": "stdout",
          "text": [
            "{'black', 'white', 'red'}\n",
            "{'green', 'red'}\n",
            "{'black', 'white'}\n",
            "{'green'}\n"
          ]
        }
      ]
    },
    {
      "cell_type": "markdown",
      "source": [
        "Q3"
      ],
      "metadata": {
        "id": "I4d1PafJNI76"
      }
    },
    {
      "cell_type": "code",
      "source": [
        "x = int(input('enter a number x: '))\n",
        "y= int(input('enter a number y: '))\n",
        "\n",
        "result = x*x + 2*x*y + y*y\n",
        "print('the output is: ',result)"
      ],
      "metadata": {
        "colab": {
          "base_uri": "https://localhost:8080/"
        },
        "id": "OtZEkCw0NKcq",
        "outputId": "b950831d-397c-4f09-d751-792f3bb2b86f"
      },
      "execution_count": null,
      "outputs": [
        {
          "output_type": "stream",
          "name": "stdout",
          "text": [
            "enter a number x: 3\n",
            "enter a number y: 2\n",
            "the output is:  25\n"
          ]
        }
      ]
    },
    {
      "cell_type": "markdown",
      "source": [
        "Q4"
      ],
      "metadata": {
        "id": "uW_jF4KPO4mX"
      }
    },
    {
      "cell_type": "code",
      "source": [
        "def getsum(n):\n",
        "  sum  = 0\n",
        "  for digit in str(n):\n",
        "    sum += int(digit)\n",
        "  return sum\n",
        "\n",
        "n = 1234567890\n",
        "print(getsum(n))"
      ],
      "metadata": {
        "colab": {
          "base_uri": "https://localhost:8080/"
        },
        "id": "lfKNyMcLO5xX",
        "outputId": "5e6ac992-0cd2-4a41-d1e1-0d8111208df0"
      },
      "execution_count": null,
      "outputs": [
        {
          "output_type": "stream",
          "name": "stdout",
          "text": [
            "45\n"
          ]
        }
      ]
    },
    {
      "cell_type": "markdown",
      "source": [
        "Q5"
      ],
      "metadata": {
        "id": "34hz5FODPxZf"
      }
    },
    {
      "cell_type": "code",
      "source": [
        "str = 'hello world'\n",
        "print(len(str))"
      ],
      "metadata": {
        "colab": {
          "base_uri": "https://localhost:8080/"
        },
        "id": "YOF26yHcPw1H",
        "outputId": "83575e47-9c92-42a9-abf7-8bbdc5d5aad7"
      },
      "execution_count": null,
      "outputs": [
        {
          "output_type": "stream",
          "name": "stdout",
          "text": [
            "11\n"
          ]
        }
      ]
    },
    {
      "cell_type": "markdown",
      "source": [
        "Q6"
      ],
      "metadata": {
        "id": "wFXBsB96QJu-"
      }
    },
    {
      "cell_type": "code",
      "source": [
        "def swap(a,b):\n",
        "  new_a = b[:2] + a[2:]\n",
        "  new_b = a[:2] + b[2:]\n",
        "  return new_a + ' ' + new_b\n",
        "print(swap('abc', 'xyz'))"
      ],
      "metadata": {
        "colab": {
          "base_uri": "https://localhost:8080/"
        },
        "id": "b7jokOzYQLAG",
        "outputId": "4c46ef5a-b73d-40ed-b557-afe17c934b2a"
      },
      "execution_count": null,
      "outputs": [
        {
          "output_type": "stream",
          "name": "stdout",
          "text": [
            "xyc abz\n"
          ]
        }
      ]
    },
    {
      "cell_type": "markdown",
      "source": [
        "Q7"
      ],
      "metadata": {
        "id": "YlBOFrW_R3S2"
      }
    },
    {
      "cell_type": "code",
      "source": [
        "str = 'Uzqumaki Naruto'\n",
        "\n",
        "n = 2\n",
        "\n",
        "modified_str = ''\n",
        "\n",
        "for char in range(0, len(str)):\n",
        "  if(char != n):\n",
        "    modified_str += str[char] # append original character \n",
        "\n",
        "print(modified_str)"
      ],
      "metadata": {
        "colab": {
          "base_uri": "https://localhost:8080/"
        },
        "id": "5nCIjBhvR4gV",
        "outputId": "0975c804-4856-43c0-ef06-e12f93393141"
      },
      "execution_count": null,
      "outputs": [
        {
          "output_type": "stream",
          "name": "stdout",
          "text": [
            "Uzumaki Naruto\n"
          ]
        }
      ]
    },
    {
      "cell_type": "markdown",
      "source": [
        "Q8"
      ],
      "metadata": {
        "id": "xqVK7jufS6JN"
      }
    },
    {
      "cell_type": "code",
      "source": [
        "str = input('enter your string: ')\n",
        "print('expected string in uppercase is:', str.upper())\n",
        "print('expected string in lowercaseb is:', str.lower())"
      ],
      "metadata": {
        "colab": {
          "base_uri": "https://localhost:8080/"
        },
        "id": "oSRdMn-qS7Mt",
        "outputId": "12195efa-399d-4e42-a27e-82044058021a"
      },
      "execution_count": null,
      "outputs": [
        {
          "output_type": "stream",
          "name": "stdout",
          "text": [
            "enter your string: SASUKE ucicha\n",
            "expected string in uppercase is: SASUKE UCICHA\n",
            "expected string in lowercaseb is: sasuke ucicha\n"
          ]
        }
      ]
    },
    {
      "cell_type": "markdown",
      "source": [
        "Q9"
      ],
      "metadata": {
        "id": "6gi1DGgoTqHF"
      }
    },
    {
      "cell_type": "code",
      "source": [
        "str = 'hello world! How you?'\n",
        "index = str.find('you')\n",
        "expected_str = str[:index] + 'are ' + str[index:]\n",
        "print(expected_str)"
      ],
      "metadata": {
        "colab": {
          "base_uri": "https://localhost:8080/"
        },
        "id": "7xP5gFfZTrwU",
        "outputId": "1a7d968b-0ef2-4582-e57a-d33d4917aa16"
      },
      "execution_count": null,
      "outputs": [
        {
          "output_type": "stream",
          "name": "stdout",
          "text": [
            "hello world! How are you?\n"
          ]
        }
      ]
    },
    {
      "cell_type": "markdown",
      "source": [
        "Q10"
      ],
      "metadata": {
        "id": "65HW8uHeUjIs"
      }
    },
    {
      "cell_type": "code",
      "source": [
        "digit = 2.12345\n",
        "format_float = '{:.2f}'.format(digit)\n",
        "print(format_float)"
      ],
      "metadata": {
        "colab": {
          "base_uri": "https://localhost:8080/"
        },
        "id": "2iz9WsSiUYb9",
        "outputId": "d8560be8-9e2a-4c1c-91a1-f6b18a53f614"
      },
      "execution_count": null,
      "outputs": [
        {
          "output_type": "stream",
          "name": "stdout",
          "text": [
            "2.12\n"
          ]
        }
      ]
    }
  ]
}
