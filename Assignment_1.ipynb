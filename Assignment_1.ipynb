{
  "nbformat": 4,
  "nbformat_minor": 0,
  "metadata": {
    "colab": {
      "name": "Assignment 1.ipynb",
      "provenance": [],
      "authorship_tag": "ABX9TyPU2mX5gLUj3DmCWNQrJQnB",
      "include_colab_link": true
    },
    "kernelspec": {
      "name": "python3",
      "display_name": "Python 3"
    },
    "language_info": {
      "name": "python"
    }
  },
  "cells": [
    {
      "cell_type": "markdown",
      "metadata": {
        "id": "view-in-github",
        "colab_type": "text"
      },
      "source": [
        "<a href=\"https://colab.research.google.com/github/Davjot/Conversational-AI-Assignments/blob/main/Assignment_1.ipynb\" target=\"_parent\"><img src=\"https://colab.research.google.com/assets/colab-badge.svg\" alt=\"Open In Colab\"/></a>"
      ]
    },
    {
      "cell_type": "markdown",
      "source": [
        "# Assignemnt 1"
      ],
      "metadata": {
        "id": "Z4aN17G9cXXL"
      }
    },
    {
      "cell_type": "markdown",
      "source": [
        "# Q1: Questions on Basic NumPy Array"
      ],
      "metadata": {
        "id": "5sSigqfpchZZ"
      }
    },
    {
      "cell_type": "markdown",
      "source": [
        "(a) Reverse the NumPy array: arr = np.array([1, 2, 3, 6, 4, 5])"
      ],
      "metadata": {
        "id": "Pgll4tn8cjE4"
      }
    },
    {
      "cell_type": "code",
      "execution_count": 1,
      "metadata": {
        "colab": {
          "base_uri": "https://localhost:8080/"
        },
        "id": "Wc4ew-imcMYA",
        "outputId": "809c89f2-7e99-4e58-e7bf-d6b0b7cd6ada"
      },
      "outputs": [
        {
          "output_type": "stream",
          "name": "stdout",
          "text": [
            "The result array :  [5 4 3 2 1]\n"
          ]
        }
      ],
      "source": [
        "import numpy as np\n",
        "\n",
        "arr = np.array([1, 2, 3, 4, 5])\n",
        "result_array = arr[::-1]\n",
        "print(\"The result array is : \", str(result_array))"
      ]
    },
    {
      "cell_type": "markdown",
      "source": [
        "(b) Flatten the NumPy arr: array1 = np.array([[1, 2, 3], [2, 4, 5], [1, 2, 3]]) using any two NumPy in-built methods "
      ],
      "metadata": {
        "id": "vYSEzbyJdN-C"
      }
    },
    {
      "cell_type": "markdown",
      "source": [
        "1st method"
      ],
      "metadata": {
        "id": "zdYFSPwTezGO"
      }
    },
    {
      "cell_type": "code",
      "source": [
        "import numpy as np\n",
        "\n",
        "arr1 = np.array([[1, 2, 3], [2, 4, 5], [1, 2, 3]])\n",
        "final_array = arr1.flatten()\n",
        "print(\"The final array is : \", str(final_array))"
      ],
      "metadata": {
        "colab": {
          "base_uri": "https://localhost:8080/"
        },
        "id": "cr7-NdkXdNbm",
        "outputId": "2d0c2b1e-949f-4834-e706-dff2cfe57501"
      },
      "execution_count": 2,
      "outputs": [
        {
          "output_type": "stream",
          "name": "stdout",
          "text": [
            "The final array is :  [1 2 3 2 4 5 1 2 3]\n"
          ]
        }
      ]
    },
    {
      "cell_type": "markdown",
      "source": [
        "2nd method"
      ],
      "metadata": {
        "id": "hxySJ3P-e131"
      }
    },
    {
      "cell_type": "code",
      "source": [
        "import numpy as np\n",
        "\n",
        "arr1 = np.array([[1, 2, 3], [2, 4, 5], [1, 2, 3]])\n",
        "final_array = arr1.ravel()\n",
        "print(\"The final array is : \", str(final_array))"
      ],
      "metadata": {
        "colab": {
          "base_uri": "https://localhost:8080/"
        },
        "id": "lLHPFFJCeyXD",
        "outputId": "822c52b3-9fee-4346-8dae-9a0f2c3671af"
      },
      "execution_count": 3,
      "outputs": [
        {
          "output_type": "stream",
          "name": "stdout",
          "text": [
            "The final array is :  [1 2 3 2 4 5 1 2 3]\n"
          ]
        }
      ]
    },
    {
      "cell_type": "markdown",
      "source": [
        "(c) Compare the following numpy arrays:\n",
        "\n",
        " arr1 = np.array([[1, 2], [3, 4]]) \n",
        "\n",
        " arr2 = np.array([[1, 2], [3, 4]])"
      ],
      "metadata": {
        "id": "n-X0u6JgfKYy"
      }
    },
    {
      "cell_type": "code",
      "source": [
        "import numpy as np\n",
        "\n",
        "array1 = np.array([[1, 2], [3, 4]])\n",
        "array2 = np.array([[1, 2], [3, 4]])\n",
        "\n",
        "if np.array_equal(array1 , array2):\n",
        "  print(\"Both the arrays are equal\")\n",
        "else:\n",
        "  print(\"Both the arrays are not equal\")"
      ],
      "metadata": {
        "colab": {
          "base_uri": "https://localhost:8080/"
        },
        "id": "9nXRrv_TfSUV",
        "outputId": "717e6aa8-7e21-4285-cab0-28558666e518"
      },
      "execution_count": 4,
      "outputs": [
        {
          "output_type": "stream",
          "name": "stdout",
          "text": [
            "Both the arrays are equal\n"
          ]
        }
      ]
    },
    {
      "cell_type": "markdown",
      "source": [
        "(d) Find the most frequent value and their indice(s) in the following arrays:"
      ],
      "metadata": {
        "id": "_wTi0G2Nf_DW"
      }
    },
    {
      "cell_type": "markdown",
      "source": [
        "i. \n",
        "x = np.array([1,2,3,4,5,1,2,1,1,1])"
      ],
      "metadata": {
        "id": "7uZZ6fD0gHUZ"
      }
    },
    {
      "cell_type": "code",
      "source": [
        "import numpy as np\n",
        "\n",
        "x = np.array([1,2,3,4,5,1,2,1,1,1])\n",
        "count = np.bincount(x)\n",
        "m = np.argmax(count)\n",
        "print(\"The most frequented value is : \", m)\n",
        "result = np.where(x == m)\n",
        "print(\"Indices where most frequent value occur are : \", result)"
      ],
      "metadata": {
        "colab": {
          "base_uri": "https://localhost:8080/"
        },
        "id": "HjUVsQbGgNUI",
        "outputId": "ca6009ae-8db3-4b8c-bca6-534d40f0adcf"
      },
      "execution_count": 5,
      "outputs": [
        {
          "output_type": "stream",
          "name": "stdout",
          "text": [
            "The most frequented value is :  1\n",
            "Indices where most frequent values occur are :  (array([0, 5, 7, 8, 9]),)\n"
          ]
        }
      ]
    },
    {
      "cell_type": "markdown",
      "source": [
        "ii\n",
        "y = np.array([1, 1, 1, 2, 3, 4, 2, 4, 3, 3, ])"
      ],
      "metadata": {
        "id": "bR4ltsgugO2h"
      }
    },
    {
      "cell_type": "code",
      "source": [
        "import numpy as np\n",
        "\n",
        "y = np.array([1, 1, 1, 2, 3, 4, 2, 4, 3, 3])\n",
        "count = np.bincount(y)\n",
        "m = np.argmax(count)\n",
        "print(\"The most frequented value is : \", m)\n",
        "result = np.where(y == m )\n",
        "print(\"Indices where most frequent value occur are : \", result)"
      ],
      "metadata": {
        "colab": {
          "base_uri": "https://localhost:8080/"
        },
        "id": "c4odpeIRgUSK",
        "outputId": "7319e3e2-6083-40a0-d5d9-e79eb2140a8a"
      },
      "execution_count": 6,
      "outputs": [
        {
          "output_type": "stream",
          "name": "stdout",
          "text": [
            "The most frequented value is :  1\n",
            "Indices where most frequent value occur are :  (array([0, 1, 2]),)\n"
          ]
        }
      ]
    },
    {
      "cell_type": "markdown",
      "source": [
        "(e) For the array gfg = np.matrix('[4, 1, 9; 12, 3, 1; 4, 5, 6]'), find"
      ],
      "metadata": {
        "id": "ZWQcOJg2iOuX"
      }
    },
    {
      "cell_type": "markdown",
      "source": [
        "i. Sum of all the elements"
      ],
      "metadata": {
        "id": "WoRuvk1fiYVz"
      }
    },
    {
      "cell_type": "code",
      "source": [
        "import numpy as np\n",
        "\n",
        "gfg = np.matrix('[4, 1, 9; 12, 3, 1; 4, 5, 6]')\n",
        "print(\"Original array : \")\n",
        "print(gfg)\n",
        "\n",
        "print(\"Sum of all elements is: \")\n",
        "print(np.sum(gfg))"
      ],
      "metadata": {
        "colab": {
          "base_uri": "https://localhost:8080/"
        },
        "id": "XO-gfPLOiNUn",
        "outputId": "456059eb-0635-4bc1-86d6-ad6dcaf4a43e"
      },
      "execution_count": 7,
      "outputs": [
        {
          "output_type": "stream",
          "name": "stdout",
          "text": [
            "Original array : \n",
            "[[ 4  1  9]\n",
            " [12  3  1]\n",
            " [ 4  5  6]]\n",
            "Sum of all elements is: \n",
            "45\n"
          ]
        }
      ]
    },
    {
      "cell_type": "markdown",
      "source": [
        "ii. Sum of all the elements row-wise"
      ],
      "metadata": {
        "id": "4hbNGNUrieWc"
      }
    },
    {
      "cell_type": "code",
      "source": [
        "import numpy as np\n",
        "\n",
        "gfg = np.matrix('[4, 1, 9; 12, 3, 1; 4, 5, 6]')\n",
        "print(\"Original array : \")\n",
        "print(gfg)\n",
        "\n",
        "print(\"Sum of all elements row-wise is: \")\n",
        "print(np.sum(gfg, axis = 1))"
      ],
      "metadata": {
        "colab": {
          "base_uri": "https://localhost:8080/"
        },
        "id": "G6Zjxpxnik4M",
        "outputId": "cbbdde8d-2a71-4e6e-c249-0059d4b3cea8"
      },
      "execution_count": 9,
      "outputs": [
        {
          "output_type": "stream",
          "name": "stdout",
          "text": [
            "Original array : \n",
            "[[ 4  1  9]\n",
            " [12  3  1]\n",
            " [ 4  5  6]]\n",
            "Sum of all elements row-wise is: \n",
            "[[14]\n",
            " [16]\n",
            " [15]]\n"
          ]
        }
      ]
    },
    {
      "cell_type": "markdown",
      "source": [
        "iii. Sum of all the elements column-wise"
      ],
      "metadata": {
        "id": "4aNvmk6HilNZ"
      }
    },
    {
      "cell_type": "code",
      "source": [
        "import numpy as np\n",
        "\n",
        "gfg = np.matrix('[4, 1, 9; 12, 3, 1; 4, 5, 6]')\n",
        "print(\"Original array : \")\n",
        "print(gfg)\n",
        "\n",
        "print(\"Sum of all elements column-wise is: \")\n",
        "print(np.sum(gfg , axis = 0))"
      ],
      "metadata": {
        "colab": {
          "base_uri": "https://localhost:8080/"
        },
        "id": "R9OBjIATiove",
        "outputId": "b4c5dd4d-95a7-4cac-beeb-3c63eaa55f10"
      },
      "execution_count": 10,
      "outputs": [
        {
          "output_type": "stream",
          "name": "stdout",
          "text": [
            "Original array : \n",
            "[[ 4  1  9]\n",
            " [12  3  1]\n",
            " [ 4  5  6]]\n",
            "Sum of all elements column-wise is: \n",
            "[[20  9 16]]\n"
          ]
        }
      ]
    },
    {
      "cell_type": "markdown",
      "source": [
        "(f) For the matrix: n_array = np.array([[55, 25, 15],[30, 44, 2],[11, 45, 77]]), find"
      ],
      "metadata": {
        "id": "rPnbYgn5jum_"
      }
    },
    {
      "cell_type": "markdown",
      "source": [
        "i. Sum of diagonal elements"
      ],
      "metadata": {
        "id": "A-8DGjBIj2Lf"
      }
    },
    {
      "cell_type": "code",
      "source": [
        "import numpy as np\n",
        "\n",
        "n_array = np.array([[55, 25, 15],[30, 44, 2],[11, 45, 77]])\n",
        "diag = np.diag(n_array)\n",
        "print(\"Sum of diagonal elemnts is: \")\n",
        "print(sum(diag))"
      ],
      "metadata": {
        "colab": {
          "base_uri": "https://localhost:8080/"
        },
        "id": "gSteEECikDL2",
        "outputId": "feffca54-9773-4e3d-995b-ad918409e127"
      },
      "execution_count": 11,
      "outputs": [
        {
          "output_type": "stream",
          "name": "stdout",
          "text": [
            "Sum of diagonal elemnts is: \n",
            "176\n"
          ]
        }
      ]
    },
    {
      "cell_type": "markdown",
      "source": [
        "ii, iii.Eigen values and Eigen vectors of matrix"
      ],
      "metadata": {
        "id": "KfxOOIiukEBF"
      }
    },
    {
      "cell_type": "code",
      "source": [
        "import numpy as np\n",
        "\n",
        "n_array = np.array([[55, 25, 15],[30, 44, 2],[11, 45, 77]])\n",
        "w, v = np.linalg.eig(n_array)\n",
        "print(\"Eigen values of the given matrix are: \\n\", w)\n",
        "print(\"Eigen vectors of the given matrix are: \\n\", v)"
      ],
      "metadata": {
        "colab": {
          "base_uri": "https://localhost:8080/"
        },
        "id": "Z53zKX8DkIet",
        "outputId": "d5702a16-2174-4b34-f091-01b560b76d4a"
      },
      "execution_count": 17,
      "outputs": [
        {
          "output_type": "stream",
          "name": "stdout",
          "text": [
            "Eigen values of the given matrix are: \n",
            " [98.16835147 28.097044   49.73460452]\n",
            "Eigen vectors of the given matrix are: \n",
            " [[ 0.4574917   0.34637121 -0.15017693]\n",
            " [ 0.28447814 -0.72784061 -0.4852124 ]\n",
            " [ 0.84248058  0.59184038  0.8614034 ]]\n"
          ]
        }
      ]
    },
    {
      "cell_type": "markdown",
      "source": [
        "iv.Inverse of matrix"
      ],
      "metadata": {
        "id": "OUxjdNlslm-E"
      }
    },
    {
      "cell_type": "code",
      "source": [
        "import numpy as np\n",
        "\n",
        "n_array = np.array([[55, 25, 15],[30, 44, 2],[11, 45, 77]])\n",
        "y = np.linalg.inv(n_array)\n",
        "print(\"Inverse of matrix is: \\n\",y)"
      ],
      "metadata": {
        "colab": {
          "base_uri": "https://localhost:8080/"
        },
        "id": "dfWaHWIElpRB",
        "outputId": "37583b3e-9876-48e6-f068-4091f41542c3"
      },
      "execution_count": 18,
      "outputs": [
        {
          "output_type": "stream",
          "name": "stdout",
          "text": [
            "Inverse of matrix is: \n",
            " [[ 0.02404141 -0.00911212 -0.00444671]\n",
            " [-0.01667882  0.02966905  0.0024785 ]\n",
            " [ 0.00631287 -0.01603732  0.01217379]]\n"
          ]
        }
      ]
    },
    {
      "cell_type": "markdown",
      "source": [
        "v.Determinant of matrix"
      ],
      "metadata": {
        "id": "TeJlcu3FkROl"
      }
    },
    {
      "cell_type": "code",
      "source": [
        "import numpy as np\n",
        "\n",
        "n_array = np.array([[55, 25, 15],[30, 44, 2],[11, 45, 77]])\n",
        "s = np.linalg.det(n_array)\n",
        "print(\"Determinant of the matrix is: \\n\",y)"
      ],
      "metadata": {
        "colab": {
          "base_uri": "https://localhost:8080/"
        },
        "id": "FgJA-0IkkU1U",
        "outputId": "e9a5229a-444c-44a2-b15f-37625da04c0a"
      },
      "execution_count": 19,
      "outputs": [
        {
          "output_type": "stream",
          "name": "stdout",
          "text": [
            "Determinant of the matrix is: \n",
            " [[ 0.02404141 -0.00911212 -0.00444671]\n",
            " [-0.01667882  0.02966905  0.0024785 ]\n",
            " [ 0.00631287 -0.01603732  0.01217379]]\n"
          ]
        }
      ]
    },
    {
      "cell_type": "markdown",
      "source": [
        "(g) Multiply the following matrices and also find covariance between matrices using NumPy:"
      ],
      "metadata": {
        "id": "aBX8axSvmd-q"
      }
    },
    {
      "cell_type": "markdown",
      "source": [
        "i. p = [[1, 2], [2, 3]]\n",
        "\n",
        " q = [[4, 5], [6, 7]]"
      ],
      "metadata": {
        "id": "19e5CEfBmhiW"
      }
    },
    {
      "cell_type": "code",
      "source": [
        "import numpy as np\n",
        "\n",
        "p = np.array([[1, 2] , [2, 3]])\n",
        "q = np.array([[4, 5] , [6, 7]])\n",
        "print(\"Multiplication of the matrices is: \\n\", np.dot(p, q))\n",
        "print(\"Covariance of the matrices is: \\n\", np.cov(np.dot(p, q)))"
      ],
      "metadata": {
        "colab": {
          "base_uri": "https://localhost:8080/"
        },
        "id": "fodS7Zg3mnc8",
        "outputId": "74100776-90ab-42cc-996d-03496fbbb8e0"
      },
      "execution_count": 21,
      "outputs": [
        {
          "output_type": "stream",
          "name": "stdout",
          "text": [
            "Multiplication of the matrices is: \n",
            " [[16 19]\n",
            " [26 31]]\n",
            "Covariance of the matrices is: \n",
            " [[ 4.5  7.5]\n",
            " [ 7.5 12.5]]\n"
          ]
        }
      ]
    },
    {
      "cell_type": "markdown",
      "source": [
        "ii.p = [[1, 2], [2, 3], [4, 5]]\n",
        "\n",
        "q = [[4, 5, 1], [6, 7, 2]]"
      ],
      "metadata": {
        "id": "4A_PKDZUmr65"
      }
    },
    {
      "cell_type": "code",
      "source": [
        "import numpy as np\n",
        "\n",
        "p = np.array([[1, 2] , [2, 3] , [4, 5]])\n",
        "q = np.array([[4, 5 , 1] , [6, 7 , 2]])\n",
        "print(\"Multiplication of the matrices is: \\n\", np.dot(p, q))\n",
        "print(\"Covariance of the matrices is: \\n\", np.cov(np.dot(p, q)))"
      ],
      "metadata": {
        "colab": {
          "base_uri": "https://localhost:8080/"
        },
        "id": "a0urUCOom4V8",
        "outputId": "fb649645-ecc5-4e5f-8268-4413f738e0f7"
      },
      "execution_count": 22,
      "outputs": [
        {
          "output_type": "stream",
          "name": "stdout",
          "text": [
            "Multiplication of the matrices is: \n",
            " [[16 19  5]\n",
            " [26 31  8]\n",
            " [46 55 14]]\n",
            "Covariance of the matrices is: \n",
            " [[ 54.33333333  89.16666667 158.83333333]\n",
            " [ 89.16666667 146.33333333 260.66666667]\n",
            " [158.83333333 260.66666667 464.33333333]]\n"
          ]
        }
      ]
    },
    {
      "cell_type": "markdown",
      "source": [
        "(h) For the matrices: x = np.array([[2, 3, 4], [3, 2, 9]]); y = np.array([[1, 5, 0], [5, 10, 3]]),\n",
        "find inner, outer and cartesian product?"
      ],
      "metadata": {
        "id": "inSgwxHWoBM-"
      }
    },
    {
      "cell_type": "code",
      "source": [
        "import numpy as np\n",
        "\n",
        "x = np.array([[2, 3, 4], [3, 2, 9]])\n",
        "y = np.array([[1, 5, 0], [5, 10, 3]])\n",
        "#result = np.transpose([np.tile(x, len(y)), np.repeat(y, len(x))])\n",
        "\n",
        "print(\"Inner product of the matrices is: \\n\", np.inner(x,y))\n",
        "print(\"Outer product of the matrices is: \\n\", np.outer(x,y))\n",
        "#print(\"Cartesian Product of the matrices is: \\n\", result)"
      ],
      "metadata": {
        "colab": {
          "base_uri": "https://localhost:8080/"
        },
        "id": "b7wN29ZZoApw",
        "outputId": "67233143-0231-4e9d-a4d5-d06ebade203a"
      },
      "execution_count": 28,
      "outputs": [
        {
          "output_type": "stream",
          "name": "stdout",
          "text": [
            "Inner product of the matrices is: \n",
            " [[17 52]\n",
            " [13 62]]\n",
            "Outer product of the matrices is: \n",
            " [[ 2 10  0 10 20  6]\n",
            " [ 3 15  0 15 30  9]\n",
            " [ 4 20  0 20 40 12]\n",
            " [ 3 15  0 15 30  9]\n",
            " [ 2 10  0 10 20  6]\n",
            " [ 9 45  0 45 90 27]]\n"
          ]
        }
      ]
    },
    {
      "cell_type": "markdown",
      "source": [
        "# Q2: Based on NumPy Mathematics and Statistics"
      ],
      "metadata": {
        "id": "mMz7fTVkqDXz"
      }
    },
    {
      "cell_type": "markdown",
      "source": [
        "(a) For the array: array = np.array([[1, -2, 3],[-4, 5, -6]])"
      ],
      "metadata": {
        "id": "s1GPipUGqE79"
      }
    },
    {
      "cell_type": "markdown",
      "source": [
        "i.Find element-wise absolute value"
      ],
      "metadata": {
        "id": "-m0k1a6SqJAi"
      }
    },
    {
      "cell_type": "code",
      "source": [
        ""
      ],
      "metadata": {
        "id": "a2FO-tBXp5rb"
      },
      "execution_count": null,
      "outputs": []
    },
    {
      "cell_type": "markdown",
      "source": [
        "ii.Find the 25th, 50th, and 75th percentile of flattened array, for each column, for each row."
      ],
      "metadata": {
        "id": "DTr_x-fLqNkz"
      }
    },
    {
      "cell_type": "code",
      "source": [
        ""
      ],
      "metadata": {
        "id": "AOfdPI1WqQWm"
      },
      "execution_count": null,
      "outputs": []
    },
    {
      "cell_type": "markdown",
      "source": [
        "iii.Mean, Median and Standard Deviation of flattened array, of each column, and each row"
      ],
      "metadata": {
        "id": "gicPOAMnqQ3S"
      }
    },
    {
      "cell_type": "code",
      "source": [
        ""
      ],
      "metadata": {
        "id": "Bc2gZucvqT6M"
      },
      "execution_count": null,
      "outputs": []
    }
  ]
}