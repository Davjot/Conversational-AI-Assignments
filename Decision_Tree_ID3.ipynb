{
  "nbformat": 4,
  "nbformat_minor": 0,
  "metadata": {
    "colab": {
      "provenance": [],
      "authorship_tag": "ABX9TyOrfu6Q9NiBwRvk7QcHd52d",
      "include_colab_link": true
    },
    "kernelspec": {
      "name": "python3",
      "display_name": "Python 3"
    },
    "language_info": {
      "name": "python"
    }
  },
  "cells": [
    {
      "cell_type": "markdown",
      "metadata": {
        "id": "view-in-github",
        "colab_type": "text"
      },
      "source": [
        "<a href=\"https://colab.research.google.com/github/Davjot/Conversational-AI-Assignments/blob/main/Decision_Tree_ID3.ipynb\" target=\"_parent\"><img src=\"https://colab.research.google.com/assets/colab-badge.svg\" alt=\"Open In Colab\"/></a>"
      ]
    },
    {
      "cell_type": "code",
      "execution_count": 1,
      "metadata": {
        "id": "VwOTJnxv3bro"
      },
      "outputs": [],
      "source": [
        "import numpy as np\n",
        "import pandas as pd"
      ]
    },
    {
      "cell_type": "code",
      "source": [
        "df = pd.read_csv('/content/weather.csv')"
      ],
      "metadata": {
        "id": "Z7hx6XQ76KCd"
      },
      "execution_count": 3,
      "outputs": []
    },
    {
      "cell_type": "code",
      "source": [
        "def find_entropy(df):\n",
        "  target = df.keys()[-1]\n",
        "  target_values = df[target].unique()\n",
        "  entropy = 0\n",
        "  for value in target_values:\n",
        "   prob = len(df[df[target] == value])/len(df)\n",
        "   entropy += -(prob * np.log2(prob))\n",
        "  return entropy "
      ],
      "metadata": {
        "id": "OUO2y4HH4Hep"
      },
      "execution_count": 2,
      "outputs": []
    },
    {
      "cell_type": "code",
      "source": [
        "find_entropy(df)"
      ],
      "metadata": {
        "colab": {
          "base_uri": "https://localhost:8080/"
        },
        "id": "Kr3YjIBT6VMh",
        "outputId": "97ac0b7b-7fb1-4bad-b904-216141792714"
      },
      "execution_count": 4,
      "outputs": [
        {
          "output_type": "execute_result",
          "data": {
            "text/plain": [
              "0.9402859586706309"
            ]
          },
          "metadata": {},
          "execution_count": 4
        }
      ]
    },
    {
      "cell_type": "code",
      "source": [
        "def find_avg_info_entropy(df, attribute):\n",
        "  attr_values = df[attribute].unique()\n",
        "  target = df.keys()[-1]\n",
        "  target_values = df[target].unique()\n",
        "  avg_info_entropy = 0\n",
        "  for value1 in attr_values:\n",
        "    entropy_subsample = 0\n",
        "    for value2 in target_values:\n",
        "      num = len(df[attribute][df[attribute] == value1][df[target] == value2])\n",
        "      den = len(df[attribute][df[attribute] == value1])\n",
        "      prob = num/den\n",
        "      entropy_subsample += -(prob * np.log2(prob + 1e-7))\n",
        "    weight = den/len(df)\n",
        "    avg_info_entropy += weight * entropy_subsample\n",
        "  return avg_info_entropy"
      ],
      "metadata": {
        "id": "0ZqB76RG6-Is"
      },
      "execution_count": 17,
      "outputs": []
    },
    {
      "cell_type": "code",
      "source": [
        "find_avg_info_entropy(df, 'Outlook')"
      ],
      "metadata": {
        "colab": {
          "base_uri": "https://localhost:8080/"
        },
        "id": "bYaheTRi94aE",
        "outputId": "410f3d7a-e410-4028-e5f5-7dfa497f01a5"
      },
      "execution_count": 18,
      "outputs": [
        {
          "output_type": "execute_result",
          "data": {
            "text/plain": [
              "0.6935358915770655"
            ]
          },
          "metadata": {},
          "execution_count": 18
        }
      ]
    },
    {
      "cell_type": "code",
      "source": [
        "def find_winner(df):\n",
        "  attributes = df.keys()[:-1]\n",
        "  IG = []\n",
        "  for attribute in attributes:\n",
        "    IG.append(find_entropy(df) - find_avg_info_entropy(df, attribute))\n",
        "  return df.keys()[:-1][np.argmax(IG)]"
      ],
      "metadata": {
        "id": "DkiDTP0--_Cf"
      },
      "execution_count": 15,
      "outputs": []
    },
    {
      "cell_type": "code",
      "source": [
        "find_winner(df)"
      ],
      "metadata": {
        "colab": {
          "base_uri": "https://localhost:8080/",
          "height": 37
        },
        "id": "XPQ5PApJ_wNR",
        "outputId": "f4749110-59dd-422a-8144-a02bf3bc5eb8"
      },
      "execution_count": 19,
      "outputs": [
        {
          "output_type": "execute_result",
          "data": {
            "text/plain": [
              "'Outlook'"
            ],
            "application/vnd.google.colaboratory.intrinsic+json": {
              "type": "string"
            }
          },
          "metadata": {},
          "execution_count": 19
        }
      ]
    },
    {
      "cell_type": "code",
      "source": [
        "def training(df, tree = None):\n",
        "  target = df.keys()[-1]\n",
        "  attribute = find_winner(df)\n",
        "  attr_values = df[attribute].unique()\n",
        "  if tree is None:\n",
        "    tree = {}\n",
        "    tree[attribute] = {}\n",
        "  for value in attr_values:\n",
        "    sub_df = df[df[attribute] == value].reset_index(drop = True)\n",
        "    clvalue, count = np.unique(sub_df[target], return_counts = True)\n",
        "    if len(count) == 1:\n",
        "      tree[attribute][value] = clvalue[0]\n",
        "    else:\n",
        "      tree[attribute][value] = training(sub_df)\n",
        "  return tree"
      ],
      "metadata": {
        "id": "cQ1de3pEAMhg"
      },
      "execution_count": 22,
      "outputs": []
    },
    {
      "cell_type": "code",
      "source": [
        "tree = training(df)"
      ],
      "metadata": {
        "id": "PzZiu6iFDN9x"
      },
      "execution_count": 23,
      "outputs": []
    },
    {
      "cell_type": "code",
      "source": [
        "tree"
      ],
      "metadata": {
        "colab": {
          "base_uri": "https://localhost:8080/"
        },
        "id": "_rW_84fzDh3r",
        "outputId": "f1abb168-8aa3-4563-b73a-7f74bd297785"
      },
      "execution_count": 24,
      "outputs": [
        {
          "output_type": "execute_result",
          "data": {
            "text/plain": [
              "{'Outlook': {'rainy': {'Humidity': {'high': 0, 'normal': 1}},\n",
              "  'overcast': 1,\n",
              "  'sunny': {'Windy': {0: 1, 1: 0}}}}"
            ]
          },
          "metadata": {},
          "execution_count": 24
        }
      ]
    },
    {
      "cell_type": "code",
      "source": [
        "def prediction(instance, tree):\n",
        "  for attribute in tree.keys():\n",
        "    value = instance[attribute]\n",
        "    tree = tree[attribute][value]\n",
        "    if type(tree) is dict:\n",
        "      predict = prediction(instance, tree)\n",
        "    else:\n",
        "      predict = tree\n",
        "      break\n",
        "  return predict"
      ],
      "metadata": {
        "id": "Y1cT7rfXDwqS"
      },
      "execution_count": 25,
      "outputs": []
    },
    {
      "cell_type": "code",
      "source": [
        "df1 = pd.read_csv('/content/weather_test.csv')"
      ],
      "metadata": {
        "id": "ZIoPiVE7E5tJ"
      },
      "execution_count": 26,
      "outputs": []
    },
    {
      "cell_type": "code",
      "source": [
        "y_predict = []\n",
        "for i in range(len(df1)):\n",
        "  instance = df1.iloc[i,:]\n",
        "  predict = prediction(instance, tree)\n",
        "  y_predict.append(predict)"
      ],
      "metadata": {
        "id": "PViD9WUkFLQH"
      },
      "execution_count": 27,
      "outputs": []
    },
    {
      "cell_type": "code",
      "source": [
        "y_predict"
      ],
      "metadata": {
        "colab": {
          "base_uri": "https://localhost:8080/"
        },
        "id": "4MQfnz_HFink",
        "outputId": "f3c5ab73-d4df-48e2-bfca-d5b58691a9a0"
      },
      "execution_count": 28,
      "outputs": [
        {
          "output_type": "execute_result",
          "data": {
            "text/plain": [
              "[0, 1]"
            ]
          },
          "metadata": {},
          "execution_count": 28
        }
      ]
    }
  ]
}