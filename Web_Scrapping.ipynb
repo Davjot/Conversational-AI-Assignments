{
  "nbformat": 4,
  "nbformat_minor": 0,
  "metadata": {
    "colab": {
      "provenance": [],
      "authorship_tag": "ABX9TyMu5+5YDTE6BcVByjDVOLCY",
      "include_colab_link": true
    },
    "kernelspec": {
      "name": "python3",
      "display_name": "Python 3"
    },
    "language_info": {
      "name": "python"
    }
  },
  "cells": [
    {
      "cell_type": "markdown",
      "metadata": {
        "id": "view-in-github",
        "colab_type": "text"
      },
      "source": [
        "<a href=\"https://colab.research.google.com/github/Davjot/Conversational-AI-Assignments/blob/main/Web_Scrapping.ipynb\" target=\"_parent\"><img src=\"https://colab.research.google.com/assets/colab-badge.svg\" alt=\"Open In Colab\"/></a>"
      ]
    },
    {
      "cell_type": "code",
      "execution_count": 7,
      "metadata": {
        "colab": {
          "base_uri": "https://localhost:8080/"
        },
        "id": "Acvel6xhrJJd",
        "outputId": "4bf0e199-b1d7-4329-b385-7a010196810e"
      },
      "outputs": [
        {
          "output_type": "stream",
          "name": "stdout",
          "text": [
            "Looking in indexes: https://pypi.org/simple, https://us-python.pkg.dev/colab-wheels/public/simple/\n",
            "Requirement already satisfied: requests in /usr/local/lib/python3.7/dist-packages (2.23.0)\n",
            "Requirement already satisfied: certifi>=2017.4.17 in /usr/local/lib/python3.7/dist-packages (from requests) (2022.9.24)\n",
            "Requirement already satisfied: idna<3,>=2.5 in /usr/local/lib/python3.7/dist-packages (from requests) (2.10)\n",
            "Requirement already satisfied: chardet<4,>=3.0.2 in /usr/local/lib/python3.7/dist-packages (from requests) (3.0.4)\n",
            "Requirement already satisfied: urllib3!=1.25.0,!=1.25.1,<1.26,>=1.21.1 in /usr/local/lib/python3.7/dist-packages (from requests) (1.24.3)\n",
            "Looking in indexes: https://pypi.org/simple, https://us-python.pkg.dev/colab-wheels/public/simple/\n",
            "Requirement already satisfied: bs4 in /usr/local/lib/python3.7/dist-packages (0.0.1)\n",
            "Requirement already satisfied: beautifulsoup4 in /usr/local/lib/python3.7/dist-packages (from bs4) (4.6.3)\n",
            "Looking in indexes: https://pypi.org/simple, https://us-python.pkg.dev/colab-wheels/public/simple/\n",
            "Requirement already satisfied: html5lib in /usr/local/lib/python3.7/dist-packages (1.0.1)\n",
            "Requirement already satisfied: webencodings in /usr/local/lib/python3.7/dist-packages (from html5lib) (0.5.1)\n",
            "Requirement already satisfied: six>=1.9 in /usr/local/lib/python3.7/dist-packages (from html5lib) (1.15.0)\n"
          ]
        }
      ],
      "source": [
        "!pip install requests\n",
        "!pip install bs4\n",
        "!pip install html5lib"
      ]
    },
    {
      "cell_type": "code",
      "source": [
        "import requests \n",
        "from bs4 import BeautifulSoup"
      ],
      "metadata": {
        "id": "90SQiMs3smdz"
      },
      "execution_count": 8,
      "outputs": []
    },
    {
      "cell_type": "code",
      "source": [
        "#type(soup)\n",
        "#soup.title\n",
        "#soup.a #first anchor tag of page\n",
        "#type(soup.a) #tag object\n",
        "#soup.a.name\n",
        "#soup.a.attrs #tag object using attribute property\n",
        "#soup.title.text \n",
        "#type(soup.title.text)\n",
        "#soup.find_all('a') #all anchor tags of page "
      ],
      "metadata": {
        "id": "dsKepcgovV8a"
      },
      "execution_count": 12,
      "outputs": []
    },
    {
      "cell_type": "code",
      "source": [
        "def get_data(pageno):\n",
        "  url = 'https://www.amazon.in/gp/bestsellers/books/ref=zg_bs_pg_1?'+ str(pageno) + 'ie=UTF8&pg=' + str(pageno)\n",
        "  r = requests.get(url)\n",
        "  soup = BeautifulSoup(r.content ,'html.parser')\n",
        "  complete = []\n",
        "\n",
        "  for d in soup.find_all('div', attrs = {'class' : \"\"}): #class have some value that find all the image pictures of books\n",
        "    book_name = d.find('div', attrs = {'class' : \"\"}) # same as above\n",
        "    author_name = d.find('div', attrs = {'class' : \"\"}) \n",
        "    ratings = d.find('span', attrs = {'class' : \"\"}) # span tag\n",
        "    link = d.find('a', attrs = {'class' : \"\"}) #anchor tag\n",
        "    sub = []    \n",
        "    if book_name is not None:\n",
        "      sub.append(book_name.text)\n",
        "    else:\n",
        "      sub.append('NaN')\n",
        "\n",
        "    if author_name is not None:\n",
        "      sub.append(author_name.text)\n",
        "    else:\n",
        "      sub.append('NaN')\n",
        "\n",
        "    if ratings is not None:\n",
        "      sub.append(ratings.text)\n",
        "    else:\n",
        "      sub.append('NaN')\n",
        "\n",
        "    if link is not None:\n",
        "      sub.append('https://www.amazon.in' + link.get('href'))\n",
        "    else:\n",
        "      sub.append('NaN')\n",
        "    \n",
        "    complete.append(sub)\n",
        "  return complete"
      ],
      "metadata": {
        "id": "lZr4og1Is2T_"
      },
      "execution_count": 9,
      "outputs": []
    },
    {
      "cell_type": "code",
      "source": [
        "get_data(1) # give data about first page"
      ],
      "metadata": {
        "id": "iIqn7mV401vc"
      },
      "execution_count": null,
      "outputs": []
    },
    {
      "cell_type": "markdown",
      "source": [
        "Any number of pages"
      ],
      "metadata": {
        "id": "EUQkoxPy3cJu"
      }
    },
    {
      "cell_type": "code",
      "source": [
        "number_of_pages = 2\n",
        "result = []\n",
        "for i in range(1,number_of_pages + 1):\n",
        "  result.append(get_data(i))"
      ],
      "metadata": {
        "id": "GOFJNmp-3Hcz"
      },
      "execution_count": null,
      "outputs": []
    },
    {
      "cell_type": "code",
      "source": [
        "result"
      ],
      "metadata": {
        "id": "YIbRns1q3jU4"
      },
      "execution_count": null,
      "outputs": []
    },
    {
      "cell_type": "code",
      "source": [
        "list2 = []\n",
        "def flatten(list1):\n",
        "  for sublist1 in list1:\n",
        "    for sublist2 in sublist1:\n",
        "      list2.append(sublist2)\n",
        "  return list2"
      ],
      "metadata": {
        "id": "O-QoFA1c3r2v"
      },
      "execution_count": null,
      "outputs": []
    },
    {
      "cell_type": "code",
      "source": [
        "import pandas as pd\n",
        "df = pd.DataFrame(flatten(result),columns = ['Book Name', 'Author Name', 'Ratings', 'Link'])\n",
        "df"
      ],
      "metadata": {
        "id": "5egvFuMH4PJm"
      },
      "execution_count": null,
      "outputs": []
    }
  ]
}