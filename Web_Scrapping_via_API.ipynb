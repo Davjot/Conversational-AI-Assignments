{
  "nbformat": 4,
  "nbformat_minor": 0,
  "metadata": {
    "colab": {
      "provenance": [],
      "authorship_tag": "ABX9TyPu6QWmHni8uFnk5IAxkSk7",
      "include_colab_link": true
    },
    "kernelspec": {
      "name": "python3",
      "display_name": "Python 3"
    },
    "language_info": {
      "name": "python"
    }
  },
  "cells": [
    {
      "cell_type": "markdown",
      "metadata": {
        "id": "view-in-github",
        "colab_type": "text"
      },
      "source": [
        "<a href=\"https://colab.research.google.com/github/Davjot/Conversational-AI-Assignments/blob/main/Web_Scrapping_via_API.ipynb\" target=\"_parent\"><img src=\"https://colab.research.google.com/assets/colab-badge.svg\" alt=\"Open In Colab\"/></a>"
      ]
    },
    {
      "cell_type": "code",
      "execution_count": 1,
      "metadata": {
        "id": "JiCc8BEcsz5-"
      },
      "outputs": [],
      "source": [
        "API_key = 'c459d8f095100b766e65e796582f31bd'"
      ]
    },
    {
      "cell_type": "code",
      "source": [
        "base_url = 'https://api.themoviedb.org/3'"
      ],
      "metadata": {
        "id": "H44ErcSxvt8k"
      },
      "execution_count": 31,
      "outputs": []
    },
    {
      "cell_type": "code",
      "source": [
        "import requests\n",
        "query = base_url+'/genre/movie/list?api_key='+API_key # getting genre id's # followed by ?api_key=\n",
        "response = requests.get(query)"
      ],
      "metadata": {
        "id": "6G6jDZ_hzUqu"
      },
      "execution_count": 4,
      "outputs": []
    },
    {
      "cell_type": "code",
      "source": [
        "response.json()"
      ],
      "metadata": {
        "colab": {
          "base_uri": "https://localhost:8080/"
        },
        "id": "fN9G-CaG0XAc",
        "outputId": "a1230e1a-3895-44e0-eb94-5cb15326b2ad"
      },
      "execution_count": 5,
      "outputs": [
        {
          "output_type": "execute_result",
          "data": {
            "text/plain": [
              "{'genres': [{'id': 28, 'name': 'Action'},\n",
              "  {'id': 12, 'name': 'Adventure'},\n",
              "  {'id': 16, 'name': 'Animation'},\n",
              "  {'id': 35, 'name': 'Comedy'},\n",
              "  {'id': 80, 'name': 'Crime'},\n",
              "  {'id': 99, 'name': 'Documentary'},\n",
              "  {'id': 18, 'name': 'Drama'},\n",
              "  {'id': 10751, 'name': 'Family'},\n",
              "  {'id': 14, 'name': 'Fantasy'},\n",
              "  {'id': 36, 'name': 'History'},\n",
              "  {'id': 27, 'name': 'Horror'},\n",
              "  {'id': 10402, 'name': 'Music'},\n",
              "  {'id': 9648, 'name': 'Mystery'},\n",
              "  {'id': 10749, 'name': 'Romance'},\n",
              "  {'id': 878, 'name': 'Science Fiction'},\n",
              "  {'id': 10770, 'name': 'TV Movie'},\n",
              "  {'id': 53, 'name': 'Thriller'},\n",
              "  {'id': 10752, 'name': 'War'},\n",
              "  {'id': 37, 'name': 'Western'}]}"
            ]
          },
          "metadata": {},
          "execution_count": 5
        }
      ]
    },
    {
      "cell_type": "code",
      "source": [
        "def get_data(genre_id, year, API_key, page_no):\n",
        "  query = base_url+'/discover/movie?api_key='+API_key+'&with_genres='+str(genre_id)+'&sort_by=popularity.desc&primary_release_year.gte='+str(year)+'&page='+str(page_no) #query string joined by &\n",
        "  response = requests.get(query)\n",
        "  if response.status_code == 200:\n",
        "    data = response.json()\n",
        "    return (data['results'])\n",
        "  return 'error'"
      ],
      "metadata": {
        "id": "ew4q0j-o0aXM"
      },
      "execution_count": 32,
      "outputs": []
    },
    {
      "cell_type": "code",
      "source": [
        "movies_list = []\n",
        "page_no = 1\n",
        "genre_id = 35\n",
        "year = 2020\n",
        "while(len(movies_list) < 300):\n",
        "  query_result = get_data(genre_id,year,API_key,page_no)\n",
        "  if query_result == 'error':\n",
        "    continue\n",
        "  for movie in query_result:\n",
        "    movies_list.append(movie)\n",
        "  page_no+=1"
      ],
      "metadata": {
        "id": "HGWorA0h34CY"
      },
      "execution_count": 34,
      "outputs": []
    },
    {
      "cell_type": "code",
      "source": [
        "get_data(35,2020,API_key,1)"
      ],
      "metadata": {
        "colab": {
          "base_uri": "https://localhost:8080/"
        },
        "id": "6kXoG8Ec4U1r",
        "outputId": "99aaee3b-3515-4dc7-c8cc-c48c774a9628"
      },
      "execution_count": 33,
      "outputs": [
        {
          "output_type": "execute_result",
          "data": {
            "text/plain": [
              "[{'adult': False,\n",
              "  'backdrop_path': '/iS9U3VHpPEjTWnwmW56CrBlpgLj.jpg',\n",
              "  'genre_ids': [14, 35, 10751],\n",
              "  'id': 642885,\n",
              "  'original_language': 'en',\n",
              "  'original_title': 'Hocus Pocus 2',\n",
              "  'overview': \"It's been 29 years since someone lit the Black Flame Candle and resurrected the 17th-century sisters, and they are looking for revenge. Now it's up to three high-school students to stop the ravenous witches from wreaking a new kind of havoc on Salem before dawn on All Hallow's Eve.\",\n",
              "  'popularity': 2879.672,\n",
              "  'poster_path': '/7ze7YNmUaX81ufctGqt0AgHxRtL.jpg',\n",
              "  'release_date': '2022-09-27',\n",
              "  'title': 'Hocus Pocus 2',\n",
              "  'video': False,\n",
              "  'vote_average': 7.7,\n",
              "  'vote_count': 757},\n",
              " {'adult': False,\n",
              "  'backdrop_path': '/83oeqwN64WtafGoITvsOzjKIQaM.jpg',\n",
              "  'genre_ids': [28, 35, 53],\n",
              "  'id': 718930,\n",
              "  'original_language': 'en',\n",
              "  'original_title': 'Bullet Train',\n",
              "  'overview': \"Unlucky assassin Ladybug is determined to do his job peacefully after one too many gigs gone off the rails. Fate, however, may have other plans, as Ladybug's latest mission puts him on a collision course with lethal adversaries from around the globe—all with connected, yet conflicting, objectives—on the world's fastest train.\",\n",
              "  'popularity': 2968.556,\n",
              "  'poster_path': '/tVxDe01Zy3kZqaZRNiXFGDICdZk.jpg',\n",
              "  'release_date': '2022-07-03',\n",
              "  'title': 'Bullet Train',\n",
              "  'video': False,\n",
              "  'vote_average': 7.5,\n",
              "  'vote_count': 1808},\n",
              " {'adult': False,\n",
              "  'backdrop_path': '/jsoz1HlxczSuTx0mDl2h0lxy36l.jpg',\n",
              "  'genre_ids': [14, 28, 35],\n",
              "  'id': 616037,\n",
              "  'original_language': 'en',\n",
              "  'original_title': 'Thor: Love and Thunder',\n",
              "  'overview': 'After his retirement is interrupted by Gorr the God Butcher, a galactic killer who seeks the extinction of the gods, Thor Odinson enlists the help of King Valkyrie, Korg, and ex-girlfriend Jane Foster, who now wields Mjolnir as the Mighty Thor. Together they embark upon a harrowing cosmic adventure to uncover the mystery of the God Butcher’s vengeance and stop him before it’s too late.',\n",
              "  'popularity': 1551.71,\n",
              "  'poster_path': '/pIkRyD18kl4FhoCNQuWxWu5cBLM.jpg',\n",
              "  'release_date': '2022-07-06',\n",
              "  'title': 'Thor: Love and Thunder',\n",
              "  'video': False,\n",
              "  'vote_average': 6.7,\n",
              "  'vote_count': 4233},\n",
              " {'adult': False,\n",
              "  'backdrop_path': '/qaTzVAW1u16WFNsepjCrilBuInc.jpg',\n",
              "  'genre_ids': [16, 28, 10751, 35, 878],\n",
              "  'id': 539681,\n",
              "  'original_language': 'en',\n",
              "  'original_title': 'DC League of Super-Pets',\n",
              "  'overview': 'When Superman and the rest of the Justice League are kidnapped, Krypto the Super-Dog must convince a rag-tag shelter pack - Ace the hound, PB the potbellied pig, Merton the turtle and Chip the squirrel - to master their own newfound powers and help him rescue the superheroes.',\n",
              "  'popularity': 1254.712,\n",
              "  'poster_path': '/r7XifzvtezNt31ypvsmb6Oqxw49.jpg',\n",
              "  'release_date': '2022-07-27',\n",
              "  'title': 'DC League of Super-Pets',\n",
              "  'video': False,\n",
              "  'vote_average': 7.5,\n",
              "  'vote_count': 815},\n",
              " {'adult': False,\n",
              "  'backdrop_path': '/92PJmMopfy64VYjd0HvIQaHGZX0.jpg',\n",
              "  'genre_ids': [10751, 35, 16, 28],\n",
              "  'id': 366672,\n",
              "  'original_language': 'en',\n",
              "  'original_title': 'Paws of Fury: The Legend of Hank',\n",
              "  'overview': \"A hard-on-his-luck hound finds himself in a town full of cats in need of a hero to defend them from a ruthless villain's wicked plot to wipe their village off the map. With help from a reluctant mentor, our underdog must assume the role of town samurai and team up with the villagers to save the day.\",\n",
              "  'popularity': 1330.405,\n",
              "  'poster_path': '/wMDUDwAArpfGdtTTZ25SfwngGwt.jpg',\n",
              "  'release_date': '2022-07-14',\n",
              "  'title': 'Paws of Fury: The Legend of Hank',\n",
              "  'video': False,\n",
              "  'vote_average': 6.8,\n",
              "  'vote_count': 147},\n",
              " {'adult': False,\n",
              "  'backdrop_path': '/ordS8ITLHBp5NcVrLjEXznu3sb.jpg',\n",
              "  'genre_ids': [12, 9648, 35, 16, 10751],\n",
              "  'id': 1015724,\n",
              "  'original_language': 'en',\n",
              "  'original_title': 'Trick or Treat Scooby-Doo!',\n",
              "  'overview': 'Mystery Inc. has cracked the case to top all cases! They’ve tracked down Coco Diablo, the head of a notorious costume crime syndicate. With Coco and her kitty in prison, Mystery Inc. thinks that they can finally enjoy a break. Wrong! Suddenly, menacing doppelgänger ghosts of the Scooby crew and favorite classic foes show up in Coolsville to threaten Halloween. Now it’s up to the meddling kids to unmask the latest scoundrel and save Halloween!',\n",
              "  'popularity': 911.802,\n",
              "  'poster_path': '/wZccw4Hj9ZF1yimnfPsX9rl3HvB.jpg',\n",
              "  'release_date': '2022-10-04',\n",
              "  'title': 'Trick or Treat Scooby-Doo!',\n",
              "  'video': False,\n",
              "  'vote_average': 7.3,\n",
              "  'vote_count': 78},\n",
              " {'adult': False,\n",
              "  'backdrop_path': '/7NCRlXDQlHhFZFk3y1HJyJgGVHB.jpg',\n",
              "  'genre_ids': [28, 12, 10751, 35],\n",
              "  'id': 675353,\n",
              "  'original_language': 'en',\n",
              "  'original_title': 'Sonic the Hedgehog 2',\n",
              "  'overview': 'After settling in Green Hills, Sonic is eager to prove he has what it takes to be a true hero. His test comes when Dr. Robotnik returns, this time with a new partner, Knuckles, in search for an emerald that has the power to destroy civilizations. Sonic teams up with his own sidekick, Tails, and together they embark on a globe-trotting journey to find the emerald before it falls into the wrong hands.',\n",
              "  'popularity': 890.953,\n",
              "  'poster_path': '/6DrHO1jr3qVrViUO6s6kFiAGM7.jpg',\n",
              "  'release_date': '2022-03-30',\n",
              "  'title': 'Sonic the Hedgehog 2',\n",
              "  'video': False,\n",
              "  'vote_average': 7.7,\n",
              "  'vote_count': 3163},\n",
              " {'adult': False,\n",
              "  'backdrop_path': '/fOy2Jurz9k6RnJnMUMRDAgBwru2.jpg',\n",
              "  'genre_ids': [16, 10751, 35, 14],\n",
              "  'id': 508947,\n",
              "  'original_language': 'en',\n",
              "  'original_title': 'Turning Red',\n",
              "  'overview': 'Thirteen-year-old Mei is experiencing the awkwardness of being a teenager with a twist – when she gets too excited, she transforms into a giant red panda.',\n",
              "  'popularity': 848.762,\n",
              "  'poster_path': '/qsdjk9oAKSQMWs0Vt5Pyfh6O4GZ.jpg',\n",
              "  'release_date': '2022-03-10',\n",
              "  'title': 'Turning Red',\n",
              "  'video': False,\n",
              "  'vote_average': 7.5,\n",
              "  'vote_count': 3410},\n",
              " {'adult': False,\n",
              "  'backdrop_path': '/i9BtOklh2txI78wNSTNjoAZ6Fvj.jpg',\n",
              "  'genre_ids': [35, 10751],\n",
              "  'id': 975120,\n",
              "  'original_language': 'es',\n",
              "  'original_title': 'Padre no hay mas que Uno 3',\n",
              "  'overview': \"Christmas is coming. The children accidentally break a Nativity scene figurine from their father's collection and must by all means get an equal one, the problem is that it is a unique antique piece. Sara, the eldest daughter breaks up with her boyfriend, Ocho, who will try to recover her favors with the help of her father-in-law, Javier. Precisely Javier's father-in-law, Marisa's father, will be welcomed into the family home to spend the holidays after her recent separation, which will not leave Javier's mother, Milagros, indifferent. Rocío, the folklore of the family, who has been playing the Virgin for several Christmases, is relegated this year to playing the shepherdess, something that her father, Javier, is not willing to assume.\",\n",
              "  'popularity': 832.897,\n",
              "  'poster_path': '/k2v9xSPtiyxCNxaRGtj7COwdgG3.jpg',\n",
              "  'release_date': '2022-07-15',\n",
              "  'title': 'Father There Is Only One 3',\n",
              "  'video': False,\n",
              "  'vote_average': 7.7,\n",
              "  'vote_count': 121},\n",
              " {'adult': False,\n",
              "  'backdrop_path': '/3p3amyz5nXK9AW4VARqkPaMAG5J.jpg',\n",
              "  'genre_ids': [16, 12, 35, 14],\n",
              "  'id': 585511,\n",
              "  'original_language': 'en',\n",
              "  'original_title': 'Luck',\n",
              "  'overview': 'Suddenly finding herself in the never-before-seen Land of Luck, the unluckiest person in the world must unite with the magical creatures there to turn her luck around.',\n",
              "  'popularity': 671.064,\n",
              "  'poster_path': '/1HOYvwGFioUFL58UVvDRG6beEDm.jpg',\n",
              "  'release_date': '2022-08-05',\n",
              "  'title': 'Luck',\n",
              "  'video': False,\n",
              "  'vote_average': 7.9,\n",
              "  'vote_count': 808},\n",
              " {'adult': False,\n",
              "  'backdrop_path': '/A2XhlMUimRDViZDuJPeDtaJoHmT.jpg',\n",
              "  'genre_ids': [16, 35],\n",
              "  'id': 1015602,\n",
              "  'original_language': 'en',\n",
              "  'original_title': 'Welcome to the Club',\n",
              "  'overview': 'Heart set on becoming a princess, Lisa Simpson is surprised to learn being bad might be more fun.',\n",
              "  'popularity': 681.35,\n",
              "  'poster_path': '/kxB9E6fo0ycHzd13oOTHmGa5Njd.jpg',\n",
              "  'release_date': '2022-09-08',\n",
              "  'title': 'Welcome to the Club',\n",
              "  'video': False,\n",
              "  'vote_average': 6.6,\n",
              "  'vote_count': 99},\n",
              " {'adult': False,\n",
              "  'backdrop_path': '/mYOooABOzWRaFMRWDhUAXiKuTaO.jpg',\n",
              "  'genre_ids': [53, 27, 35, 10770],\n",
              "  'id': 831410,\n",
              "  'original_language': 'en',\n",
              "  'original_title': 'Bring It On: Cheer or Die',\n",
              "  'overview': 'When a cheer squad practices their routines on Halloween weekend in an abandoned school, they are picked off one by one by an unknown killer.',\n",
              "  'popularity': 660.864,\n",
              "  'poster_path': '/ciRq9QUBpFWNsFKs2opG5tP157.jpg',\n",
              "  'release_date': '2022-09-27',\n",
              "  'title': 'Bring It On: Cheer or Die',\n",
              "  'video': False,\n",
              "  'vote_average': 6.2,\n",
              "  'vote_count': 47},\n",
              " {'adult': False,\n",
              "  'backdrop_path': '/z8KsgBFtduX5bS1yVkjoGo4L7KJ.jpg',\n",
              "  'genre_ids': [18, 35, 10752],\n",
              "  'id': 597922,\n",
              "  'original_language': 'en',\n",
              "  'original_title': 'The Greatest Beer Run Ever',\n",
              "  'overview': 'Chickie wants to support his friends fighting in Vietnam, so he does something wild—personally bring them American beer. What starts as a well-meaning journey quickly changes Chickie’s life and perspective. Based on a true story.',\n",
              "  'popularity': 753.825,\n",
              "  'poster_path': '/ggf37TpcKaxwguhvtNn6MQpyqBn.jpg',\n",
              "  'release_date': '2022-09-30',\n",
              "  'title': 'The Greatest Beer Run Ever',\n",
              "  'video': False,\n",
              "  'vote_average': 7.8,\n",
              "  'vote_count': 241},\n",
              " {'adult': False,\n",
              "  'backdrop_path': '/gX6VtQ7X6GRvcJQJhFZO9ZJ00q7.jpg',\n",
              "  'genre_ids': [27, 35],\n",
              "  'id': 816952,\n",
              "  'original_language': 'en',\n",
              "  'original_title': \"My Best Friend's Exorcism\",\n",
              "  'overview': 'The year is 1988. Abby and Gretchen have been best friends since fourth grade. After an evening of skinny-dipping goes disastrously wrong, Gretchen begins to act…different, which leads Abby to suspect her best friend may be possessed by a demon. With help from some unlikely allies, Abby embarks on a quest to save Gretchen. But is their friendship powerful enough to beat the devil?',\n",
              "  'popularity': 536.748,\n",
              "  'poster_path': '/yIXICkqthsqbNtvtEd6rpIt3cT4.jpg',\n",
              "  'release_date': '2022-09-29',\n",
              "  'title': \"My Best Friend's Exorcism\",\n",
              "  'video': False,\n",
              "  'vote_average': 6.1,\n",
              "  'vote_count': 83},\n",
              " {'adult': False,\n",
              "  'backdrop_path': '/rHzoz94bRfyfNLjiIB26Wt5KDHE.jpg',\n",
              "  'genre_ids': [28, 80, 35, 12],\n",
              "  'id': 773867,\n",
              "  'original_language': 'ko',\n",
              "  'original_title': '서울대작전',\n",
              "  'overview': 'Chasing speed, dreams and money, a team of drivers get involved in the slush fund investigation of a powerful figure during the 1988 Seoul Olympics.',\n",
              "  'popularity': 594.051,\n",
              "  'poster_path': '/txaOvJ6HURmqFbpVtJezWNWqaR4.jpg',\n",
              "  'release_date': '2022-08-26',\n",
              "  'title': 'Seoul Vibe',\n",
              "  'video': False,\n",
              "  'vote_average': 6.8,\n",
              "  'vote_count': 92},\n",
              " {'adult': False,\n",
              "  'backdrop_path': '/3G1Q5xF40HkUBJXxt2DQgQzKTp5.jpg',\n",
              "  'genre_ids': [16, 35, 10751, 14],\n",
              "  'id': 568124,\n",
              "  'original_language': 'en',\n",
              "  'original_title': 'Encanto',\n",
              "  'overview': \"The tale of an extraordinary family, the Madrigals, who live hidden in the mountains of Colombia, in a magical house, in a vibrant town, in a wondrous, charmed place called an Encanto. The magic of the Encanto has blessed every child in the family—every child except one, Mirabel. But when she discovers that the magic surrounding the Encanto is in danger, Mirabel decides that she, the only ordinary Madrigal, might just be her exceptional family's last hope.\",\n",
              "  'popularity': 564.632,\n",
              "  'poster_path': '/4j0PNHkMr5ax3IA8tjtxcmPU3QT.jpg',\n",
              "  'release_date': '2021-10-13',\n",
              "  'title': 'Encanto',\n",
              "  'video': False,\n",
              "  'vote_average': 7.7,\n",
              "  'vote_count': 7463},\n",
              " {'adult': False,\n",
              "  'backdrop_path': '/c4Fl1cWiXcq4uJdOQudQClFjhho.jpg',\n",
              "  'genre_ids': [14, 35, 10751],\n",
              "  'id': 10439,\n",
              "  'original_language': 'en',\n",
              "  'original_title': 'Hocus Pocus',\n",
              "  'overview': \"After 300 years of slumber, three sister witches are accidentally resurrected in Salem on Halloween night, and it is up to three kids and their newfound feline friend to put an end to the witches' reign of terror once and for all.\",\n",
              "  'popularity': 449.483,\n",
              "  'poster_path': '/by4D4Q9NlUjFSEUA1yrxq6ksXmk.jpg',\n",
              "  'release_date': '1993-07-16',\n",
              "  'title': 'Hocus Pocus',\n",
              "  'video': False,\n",
              "  'vote_average': 7.1,\n",
              "  'vote_count': 2410},\n",
              " {'adult': False,\n",
              "  'backdrop_path': '/1Ds7xy7ILo8u2WWxdnkJth1jQVT.jpg',\n",
              "  'genre_ids': [28, 12, 35],\n",
              "  'id': 752623,\n",
              "  'original_language': 'en',\n",
              "  'original_title': 'The Lost City',\n",
              "  'overview': \"Reclusive author Loretta Sage writes about exotic places in her popular adventure novels that feature a handsome cover model named Alan. While on tour promoting her new book with Alan, Loretta gets kidnapped by an eccentric billionaire who hopes she can lead him to the ancient city's lost treasure that featured in her latest story. Alan, determined to prove he can be a hero in real life and not just on the pages of her books, sets off to rescue her.\",\n",
              "  'popularity': 545.316,\n",
              "  'poster_path': '/neMZH82Stu91d3iqvLdNQfqPPyl.jpg',\n",
              "  'release_date': '2022-03-24',\n",
              "  'title': 'The Lost City',\n",
              "  'video': False,\n",
              "  'vote_average': 6.8,\n",
              "  'vote_count': 2053},\n",
              " {'adult': False,\n",
              "  'backdrop_path': '/9bColKVEAaWfmOLiLZoUhdYfevy.jpg',\n",
              "  'genre_ids': [16, 10751, 35, 878],\n",
              "  'id': 1010818,\n",
              "  'original_language': 'en',\n",
              "  'original_title': \"Groot's First Steps\",\n",
              "  'overview': 'Following the events of “Guardians of the Galaxy Vol. 1,” Baby Groot is finally ready to try taking his first steps out of his pot—only to learn you have to walk before you can run.',\n",
              "  'popularity': 479.87,\n",
              "  'poster_path': '/1ifiV9ZJD4tC3tRYcnLIzH0meaB.jpg',\n",
              "  'release_date': '2022-08-10',\n",
              "  'title': \"Groot's First Steps\",\n",
              "  'video': False,\n",
              "  'vote_average': 7.4,\n",
              "  'vote_count': 169},\n",
              " {'adult': False,\n",
              "  'backdrop_path': '/9mprVUhXPjdpSaiSon44uG9Dnv2.jpg',\n",
              "  'genre_ids': [35, 28],\n",
              "  'id': 838197,\n",
              "  'original_language': 'it',\n",
              "  'original_title': 'Altrimenti ci arrabbiamo',\n",
              "  'overview': \"Carezza and Sorriso, brothers very different from each other and in quarrel since childhood, will have to put aside their controversies to recover the legendary Dune Buggy, once belonged to their beloved father and now stolen from him by Torsillo, an unscrupulous building speculator, and his son Raniero. In doing so, they will forge an unusual alliance with a circus community, headed by the beautiful and dangerous Miriam and threatened by Torsillo's dirty business. Between daring chases, memorable fights and delicate meals based on beer and sausages, will the two brothers be able to find their beloved car?\",\n",
              "  'popularity': 485.469,\n",
              "  'poster_path': '/gfQiGDB6EFKXQJo6eY0qmZIcf41.jpg',\n",
              "  'release_date': '2022-03-23',\n",
              "  'title': \"Watch Out, We're Mad\",\n",
              "  'video': False,\n",
              "  'vote_average': 5.3,\n",
              "  'vote_count': 77}]"
            ]
          },
          "metadata": {},
          "execution_count": 33
        }
      ]
    },
    {
      "cell_type": "code",
      "source": [
        "len(movies_list)"
      ],
      "metadata": {
        "colab": {
          "base_uri": "https://localhost:8080/"
        },
        "id": "18rUwewv5iO7",
        "outputId": "add16577-00be-4f02-b700-a8fe5698bcbc"
      },
      "execution_count": 35,
      "outputs": [
        {
          "output_type": "execute_result",
          "data": {
            "text/plain": [
              "300"
            ]
          },
          "metadata": {},
          "execution_count": 35
        }
      ]
    },
    {
      "cell_type": "code",
      "source": [
        "import pandas as pd\n",
        "columns = ['movie_id', 'movie_name']\n",
        "df = pd.DataFrame(columns = columns)\n",
        "for movie in movies_list:\n",
        "  df.loc[len(df)] = [movie['id'], movie['title']]"
      ],
      "metadata": {
        "id": "_o3cFoU35uho"
      },
      "execution_count": 36,
      "outputs": []
    },
    {
      "cell_type": "code",
      "source": [
        "df"
      ],
      "metadata": {
        "colab": {
          "base_uri": "https://localhost:8080/",
          "height": 419
        },
        "id": "u2w6STPY6Tox",
        "outputId": "01d38ddb-0f4c-4820-bddd-597b2bdc5b63"
      },
      "execution_count": 37,
      "outputs": [
        {
          "output_type": "execute_result",
          "data": {
            "text/plain": [
              "    movie_id                        movie_name\n",
              "0     642885                     Hocus Pocus 2\n",
              "1     718930                      Bullet Train\n",
              "2     616037            Thor: Love and Thunder\n",
              "3     539681           DC League of Super-Pets\n",
              "4     366672  Paws of Fury: The Legend of Hank\n",
              "..       ...                               ...\n",
              "295   172385                             Rio 2\n",
              "296   347626                     He's All That\n",
              "297   343668       Kingsman: The Golden Circle\n",
              "298   934756                 Love in the Villa\n",
              "299     9297                     Monster House\n",
              "\n",
              "[300 rows x 2 columns]"
            ],
            "text/html": [
              "\n",
              "  <div id=\"df-6100eb0c-afc1-46b7-82d2-a1c44af28bf8\">\n",
              "    <div class=\"colab-df-container\">\n",
              "      <div>\n",
              "<style scoped>\n",
              "    .dataframe tbody tr th:only-of-type {\n",
              "        vertical-align: middle;\n",
              "    }\n",
              "\n",
              "    .dataframe tbody tr th {\n",
              "        vertical-align: top;\n",
              "    }\n",
              "\n",
              "    .dataframe thead th {\n",
              "        text-align: right;\n",
              "    }\n",
              "</style>\n",
              "<table border=\"1\" class=\"dataframe\">\n",
              "  <thead>\n",
              "    <tr style=\"text-align: right;\">\n",
              "      <th></th>\n",
              "      <th>movie_id</th>\n",
              "      <th>movie_name</th>\n",
              "    </tr>\n",
              "  </thead>\n",
              "  <tbody>\n",
              "    <tr>\n",
              "      <th>0</th>\n",
              "      <td>642885</td>\n",
              "      <td>Hocus Pocus 2</td>\n",
              "    </tr>\n",
              "    <tr>\n",
              "      <th>1</th>\n",
              "      <td>718930</td>\n",
              "      <td>Bullet Train</td>\n",
              "    </tr>\n",
              "    <tr>\n",
              "      <th>2</th>\n",
              "      <td>616037</td>\n",
              "      <td>Thor: Love and Thunder</td>\n",
              "    </tr>\n",
              "    <tr>\n",
              "      <th>3</th>\n",
              "      <td>539681</td>\n",
              "      <td>DC League of Super-Pets</td>\n",
              "    </tr>\n",
              "    <tr>\n",
              "      <th>4</th>\n",
              "      <td>366672</td>\n",
              "      <td>Paws of Fury: The Legend of Hank</td>\n",
              "    </tr>\n",
              "    <tr>\n",
              "      <th>...</th>\n",
              "      <td>...</td>\n",
              "      <td>...</td>\n",
              "    </tr>\n",
              "    <tr>\n",
              "      <th>295</th>\n",
              "      <td>172385</td>\n",
              "      <td>Rio 2</td>\n",
              "    </tr>\n",
              "    <tr>\n",
              "      <th>296</th>\n",
              "      <td>347626</td>\n",
              "      <td>He's All That</td>\n",
              "    </tr>\n",
              "    <tr>\n",
              "      <th>297</th>\n",
              "      <td>343668</td>\n",
              "      <td>Kingsman: The Golden Circle</td>\n",
              "    </tr>\n",
              "    <tr>\n",
              "      <th>298</th>\n",
              "      <td>934756</td>\n",
              "      <td>Love in the Villa</td>\n",
              "    </tr>\n",
              "    <tr>\n",
              "      <th>299</th>\n",
              "      <td>9297</td>\n",
              "      <td>Monster House</td>\n",
              "    </tr>\n",
              "  </tbody>\n",
              "</table>\n",
              "<p>300 rows × 2 columns</p>\n",
              "</div>\n",
              "      <button class=\"colab-df-convert\" onclick=\"convertToInteractive('df-6100eb0c-afc1-46b7-82d2-a1c44af28bf8')\"\n",
              "              title=\"Convert this dataframe to an interactive table.\"\n",
              "              style=\"display:none;\">\n",
              "        \n",
              "  <svg xmlns=\"http://www.w3.org/2000/svg\" height=\"24px\"viewBox=\"0 0 24 24\"\n",
              "       width=\"24px\">\n",
              "    <path d=\"M0 0h24v24H0V0z\" fill=\"none\"/>\n",
              "    <path d=\"M18.56 5.44l.94 2.06.94-2.06 2.06-.94-2.06-.94-.94-2.06-.94 2.06-2.06.94zm-11 1L8.5 8.5l.94-2.06 2.06-.94-2.06-.94L8.5 2.5l-.94 2.06-2.06.94zm10 10l.94 2.06.94-2.06 2.06-.94-2.06-.94-.94-2.06-.94 2.06-2.06.94z\"/><path d=\"M17.41 7.96l-1.37-1.37c-.4-.4-.92-.59-1.43-.59-.52 0-1.04.2-1.43.59L10.3 9.45l-7.72 7.72c-.78.78-.78 2.05 0 2.83L4 21.41c.39.39.9.59 1.41.59.51 0 1.02-.2 1.41-.59l7.78-7.78 2.81-2.81c.8-.78.8-2.07 0-2.86zM5.41 20L4 18.59l7.72-7.72 1.47 1.35L5.41 20z\"/>\n",
              "  </svg>\n",
              "      </button>\n",
              "      \n",
              "  <style>\n",
              "    .colab-df-container {\n",
              "      display:flex;\n",
              "      flex-wrap:wrap;\n",
              "      gap: 12px;\n",
              "    }\n",
              "\n",
              "    .colab-df-convert {\n",
              "      background-color: #E8F0FE;\n",
              "      border: none;\n",
              "      border-radius: 50%;\n",
              "      cursor: pointer;\n",
              "      display: none;\n",
              "      fill: #1967D2;\n",
              "      height: 32px;\n",
              "      padding: 0 0 0 0;\n",
              "      width: 32px;\n",
              "    }\n",
              "\n",
              "    .colab-df-convert:hover {\n",
              "      background-color: #E2EBFA;\n",
              "      box-shadow: 0px 1px 2px rgba(60, 64, 67, 0.3), 0px 1px 3px 1px rgba(60, 64, 67, 0.15);\n",
              "      fill: #174EA6;\n",
              "    }\n",
              "\n",
              "    [theme=dark] .colab-df-convert {\n",
              "      background-color: #3B4455;\n",
              "      fill: #D2E3FC;\n",
              "    }\n",
              "\n",
              "    [theme=dark] .colab-df-convert:hover {\n",
              "      background-color: #434B5C;\n",
              "      box-shadow: 0px 1px 3px 1px rgba(0, 0, 0, 0.15);\n",
              "      filter: drop-shadow(0px 1px 2px rgba(0, 0, 0, 0.3));\n",
              "      fill: #FFFFFF;\n",
              "    }\n",
              "  </style>\n",
              "\n",
              "      <script>\n",
              "        const buttonEl =\n",
              "          document.querySelector('#df-6100eb0c-afc1-46b7-82d2-a1c44af28bf8 button.colab-df-convert');\n",
              "        buttonEl.style.display =\n",
              "          google.colab.kernel.accessAllowed ? 'block' : 'none';\n",
              "\n",
              "        async function convertToInteractive(key) {\n",
              "          const element = document.querySelector('#df-6100eb0c-afc1-46b7-82d2-a1c44af28bf8');\n",
              "          const dataTable =\n",
              "            await google.colab.kernel.invokeFunction('convertToInteractive',\n",
              "                                                     [key], {});\n",
              "          if (!dataTable) return;\n",
              "\n",
              "          const docLinkHtml = 'Like what you see? Visit the ' +\n",
              "            '<a target=\"_blank\" href=https://colab.research.google.com/notebooks/data_table.ipynb>data table notebook</a>'\n",
              "            + ' to learn more about interactive tables.';\n",
              "          element.innerHTML = '';\n",
              "          dataTable['output_type'] = 'display_data';\n",
              "          await google.colab.output.renderOutput(dataTable, element);\n",
              "          const docLink = document.createElement('div');\n",
              "          docLink.innerHTML = docLinkHtml;\n",
              "          element.appendChild(docLink);\n",
              "        }\n",
              "      </script>\n",
              "    </div>\n",
              "  </div>\n",
              "  "
            ]
          },
          "metadata": {},
          "execution_count": 37
        }
      ]
    },
    {
      "cell_type": "markdown",
      "source": [
        "Different  approach "
      ],
      "metadata": {
        "id": "PtEAQVjG9MmR"
      }
    },
    {
      "cell_type": "code",
      "source": [
        "!pip install tmdbv3api"
      ],
      "metadata": {
        "colab": {
          "base_uri": "https://localhost:8080/"
        },
        "id": "2-hK72j37Jbs",
        "outputId": "0dad02a5-13d6-41c6-c7b2-dde8de475f3c"
      },
      "execution_count": 14,
      "outputs": [
        {
          "output_type": "stream",
          "name": "stdout",
          "text": [
            "Looking in indexes: https://pypi.org/simple, https://us-python.pkg.dev/colab-wheels/public/simple/\n",
            "Collecting tmdbv3api\n",
            "  Downloading tmdbv3api-1.7.7-py2.py3-none-any.whl (18 kB)\n",
            "Requirement already satisfied: requests in /usr/local/lib/python3.7/dist-packages (from tmdbv3api) (2.23.0)\n",
            "Requirement already satisfied: urllib3!=1.25.0,!=1.25.1,<1.26,>=1.21.1 in /usr/local/lib/python3.7/dist-packages (from requests->tmdbv3api) (1.24.3)\n",
            "Requirement already satisfied: chardet<4,>=3.0.2 in /usr/local/lib/python3.7/dist-packages (from requests->tmdbv3api) (3.0.4)\n",
            "Requirement already satisfied: idna<3,>=2.5 in /usr/local/lib/python3.7/dist-packages (from requests->tmdbv3api) (2.10)\n",
            "Requirement already satisfied: certifi>=2017.4.17 in /usr/local/lib/python3.7/dist-packages (from requests->tmdbv3api) (2022.9.24)\n",
            "Installing collected packages: tmdbv3api\n",
            "Successfully installed tmdbv3api-1.7.7\n"
          ]
        }
      ]
    },
    {
      "cell_type": "code",
      "source": [
        "import tmdbv3api"
      ],
      "metadata": {
        "id": "xB5rKn397R7u"
      },
      "execution_count": 15,
      "outputs": []
    },
    {
      "cell_type": "code",
      "source": [
        "from tmdbv3api import TMDb,Discover"
      ],
      "metadata": {
        "id": "IMAknL-57Wxa"
      },
      "execution_count": 16,
      "outputs": []
    },
    {
      "cell_type": "code",
      "source": [
        "TMDb.api_key = API_key"
      ],
      "metadata": {
        "id": "2GePI6zM7g8K"
      },
      "execution_count": 18,
      "outputs": []
    },
    {
      "cell_type": "code",
      "source": [
        "def get_data(genre_id, year, page_no):\n",
        "  discover = Discover()\n",
        "  data = discover.discover_movies(\n",
        "      {\n",
        "          'with_genres':str(genre_id),\n",
        "          'primary_release_year.gte':str(year),\n",
        "          'page':str(page_no),\n",
        "          'sort_by':'popularity.desc'\n",
        "      }\n",
        "  )\n",
        "  return data"
      ],
      "metadata": {
        "id": "iH4XVaCf7v0K"
      },
      "execution_count": 19,
      "outputs": []
    },
    {
      "cell_type": "code",
      "source": [
        "get_data(35,2020,1)"
      ],
      "metadata": {
        "colab": {
          "base_uri": "https://localhost:8080/"
        },
        "id": "v2xG3ZRa8uT9",
        "outputId": "377304a7-f7e2-440e-ffcf-5d7a4ddb45bc"
      },
      "execution_count": 20,
      "outputs": [
        {
          "output_type": "execute_result",
          "data": {
            "text/plain": [
              "[{'adult': False, 'backdrop_path': '/iS9U3VHpPEjTWnwmW56CrBlpgLj.jpg', 'genre_ids': [14, 35, 10751], 'id': 642885, 'original_language': 'en', 'original_title': 'Hocus Pocus 2', 'overview': \"It's been 29 years since someone lit the Black Flame Candle and resurrected the 17th-century sisters, and they are looking for revenge. Now it's up to three high-school students to stop the ravenous witches from wreaking a new kind of havoc on Salem before dawn on All Hallow's Eve.\", 'popularity': 2879.672, 'poster_path': '/7ze7YNmUaX81ufctGqt0AgHxRtL.jpg', 'release_date': '2022-09-27', 'title': 'Hocus Pocus 2', 'video': False, 'vote_average': 7.7, 'vote_count': 757},\n",
              " {'adult': False, 'backdrop_path': '/83oeqwN64WtafGoITvsOzjKIQaM.jpg', 'genre_ids': [28, 35, 53], 'id': 718930, 'original_language': 'en', 'original_title': 'Bullet Train', 'overview': \"Unlucky assassin Ladybug is determined to do his job peacefully after one too many gigs gone off the rails. Fate, however, may have other plans, as Ladybug's latest mission puts him on a collision course with lethal adversaries from around the globe—all with connected, yet conflicting, objectives—on the world's fastest train.\", 'popularity': 2968.556, 'poster_path': '/tVxDe01Zy3kZqaZRNiXFGDICdZk.jpg', 'release_date': '2022-07-03', 'title': 'Bullet Train', 'video': False, 'vote_average': 7.5, 'vote_count': 1808},\n",
              " {'adult': False, 'backdrop_path': '/jsoz1HlxczSuTx0mDl2h0lxy36l.jpg', 'genre_ids': [14, 28, 35], 'id': 616037, 'original_language': 'en', 'original_title': 'Thor: Love and Thunder', 'overview': 'After his retirement is interrupted by Gorr the God Butcher, a galactic killer who seeks the extinction of the gods, Thor Odinson enlists the help of King Valkyrie, Korg, and ex-girlfriend Jane Foster, who now wields Mjolnir as the Mighty Thor. Together they embark upon a harrowing cosmic adventure to uncover the mystery of the God Butcher’s vengeance and stop him before it’s too late.', 'popularity': 1551.71, 'poster_path': '/pIkRyD18kl4FhoCNQuWxWu5cBLM.jpg', 'release_date': '2022-07-06', 'title': 'Thor: Love and Thunder', 'video': False, 'vote_average': 6.7, 'vote_count': 4233},\n",
              " {'adult': False, 'backdrop_path': '/qaTzVAW1u16WFNsepjCrilBuInc.jpg', 'genre_ids': [16, 28, 10751, 35, 878], 'id': 539681, 'original_language': 'en', 'original_title': 'DC League of Super-Pets', 'overview': 'When Superman and the rest of the Justice League are kidnapped, Krypto the Super-Dog must convince a rag-tag shelter pack - Ace the hound, PB the potbellied pig, Merton the turtle and Chip the squirrel - to master their own newfound powers and help him rescue the superheroes.', 'popularity': 1254.712, 'poster_path': '/r7XifzvtezNt31ypvsmb6Oqxw49.jpg', 'release_date': '2022-07-27', 'title': 'DC League of Super-Pets', 'video': False, 'vote_average': 7.5, 'vote_count': 815},\n",
              " {'adult': False, 'backdrop_path': '/92PJmMopfy64VYjd0HvIQaHGZX0.jpg', 'genre_ids': [10751, 35, 16, 28], 'id': 366672, 'original_language': 'en', 'original_title': 'Paws of Fury: The Legend of Hank', 'overview': \"A hard-on-his-luck hound finds himself in a town full of cats in need of a hero to defend them from a ruthless villain's wicked plot to wipe their village off the map. With help from a reluctant mentor, our underdog must assume the role of town samurai and team up with the villagers to save the day.\", 'popularity': 1330.405, 'poster_path': '/wMDUDwAArpfGdtTTZ25SfwngGwt.jpg', 'release_date': '2022-07-14', 'title': 'Paws of Fury: The Legend of Hank', 'video': False, 'vote_average': 6.8, 'vote_count': 147},\n",
              " {'adult': False, 'backdrop_path': '/ordS8ITLHBp5NcVrLjEXznu3sb.jpg', 'genre_ids': [12, 9648, 35, 16, 10751], 'id': 1015724, 'original_language': 'en', 'original_title': 'Trick or Treat Scooby-Doo!', 'overview': 'Mystery Inc. has cracked the case to top all cases! They’ve tracked down Coco Diablo, the head of a notorious costume crime syndicate. With Coco and her kitty in prison, Mystery Inc. thinks that they can finally enjoy a break. Wrong! Suddenly, menacing doppelgänger ghosts of the Scooby crew and favorite classic foes show up in Coolsville to threaten Halloween. Now it’s up to the meddling kids to unmask the latest scoundrel and save Halloween!', 'popularity': 911.802, 'poster_path': '/wZccw4Hj9ZF1yimnfPsX9rl3HvB.jpg', 'release_date': '2022-10-04', 'title': 'Trick or Treat Scooby-Doo!', 'video': False, 'vote_average': 7.3, 'vote_count': 78},\n",
              " {'adult': False, 'backdrop_path': '/7NCRlXDQlHhFZFk3y1HJyJgGVHB.jpg', 'genre_ids': [28, 12, 10751, 35], 'id': 675353, 'original_language': 'en', 'original_title': 'Sonic the Hedgehog 2', 'overview': 'After settling in Green Hills, Sonic is eager to prove he has what it takes to be a true hero. His test comes when Dr. Robotnik returns, this time with a new partner, Knuckles, in search for an emerald that has the power to destroy civilizations. Sonic teams up with his own sidekick, Tails, and together they embark on a globe-trotting journey to find the emerald before it falls into the wrong hands.', 'popularity': 890.953, 'poster_path': '/6DrHO1jr3qVrViUO6s6kFiAGM7.jpg', 'release_date': '2022-03-30', 'title': 'Sonic the Hedgehog 2', 'video': False, 'vote_average': 7.7, 'vote_count': 3163},\n",
              " {'adult': False, 'backdrop_path': '/fOy2Jurz9k6RnJnMUMRDAgBwru2.jpg', 'genre_ids': [16, 10751, 35, 14], 'id': 508947, 'original_language': 'en', 'original_title': 'Turning Red', 'overview': 'Thirteen-year-old Mei is experiencing the awkwardness of being a teenager with a twist – when she gets too excited, she transforms into a giant red panda.', 'popularity': 848.762, 'poster_path': '/qsdjk9oAKSQMWs0Vt5Pyfh6O4GZ.jpg', 'release_date': '2022-03-10', 'title': 'Turning Red', 'video': False, 'vote_average': 7.5, 'vote_count': 3410},\n",
              " {'adult': False, 'backdrop_path': '/i9BtOklh2txI78wNSTNjoAZ6Fvj.jpg', 'genre_ids': [35, 10751], 'id': 975120, 'original_language': 'es', 'original_title': 'Padre no hay mas que Uno 3', 'overview': \"Christmas is coming. The children accidentally break a Nativity scene figurine from their father's collection and must by all means get an equal one, the problem is that it is a unique antique piece. Sara, the eldest daughter breaks up with her boyfriend, Ocho, who will try to recover her favors with the help of her father-in-law, Javier. Precisely Javier's father-in-law, Marisa's father, will be welcomed into the family home to spend the holidays after her recent separation, which will not leave Javier's mother, Milagros, indifferent. Rocío, the folklore of the family, who has been playing the Virgin for several Christmases, is relegated this year to playing the shepherdess, something that her father, Javier, is not willing to assume.\", 'popularity': 832.897, 'poster_path': '/k2v9xSPtiyxCNxaRGtj7COwdgG3.jpg', 'release_date': '2022-07-15', 'title': 'Father There Is Only One 3', 'video': False, 'vote_average': 7.7, 'vote_count': 121},\n",
              " {'adult': False, 'backdrop_path': '/3p3amyz5nXK9AW4VARqkPaMAG5J.jpg', 'genre_ids': [16, 12, 35, 14], 'id': 585511, 'original_language': 'en', 'original_title': 'Luck', 'overview': 'Suddenly finding herself in the never-before-seen Land of Luck, the unluckiest person in the world must unite with the magical creatures there to turn her luck around.', 'popularity': 671.064, 'poster_path': '/1HOYvwGFioUFL58UVvDRG6beEDm.jpg', 'release_date': '2022-08-05', 'title': 'Luck', 'video': False, 'vote_average': 7.9, 'vote_count': 808},\n",
              " {'adult': False, 'backdrop_path': '/A2XhlMUimRDViZDuJPeDtaJoHmT.jpg', 'genre_ids': [16, 35], 'id': 1015602, 'original_language': 'en', 'original_title': 'Welcome to the Club', 'overview': 'Heart set on becoming a princess, Lisa Simpson is surprised to learn being bad might be more fun.', 'popularity': 681.35, 'poster_path': '/kxB9E6fo0ycHzd13oOTHmGa5Njd.jpg', 'release_date': '2022-09-08', 'title': 'Welcome to the Club', 'video': False, 'vote_average': 6.6, 'vote_count': 99},\n",
              " {'adult': False, 'backdrop_path': '/mYOooABOzWRaFMRWDhUAXiKuTaO.jpg', 'genre_ids': [53, 27, 35, 10770], 'id': 831410, 'original_language': 'en', 'original_title': 'Bring It On: Cheer or Die', 'overview': 'When a cheer squad practices their routines on Halloween weekend in an abandoned school, they are picked off one by one by an unknown killer.', 'popularity': 660.864, 'poster_path': '/ciRq9QUBpFWNsFKs2opG5tP157.jpg', 'release_date': '2022-09-27', 'title': 'Bring It On: Cheer or Die', 'video': False, 'vote_average': 6.2, 'vote_count': 47},\n",
              " {'adult': False, 'backdrop_path': '/z8KsgBFtduX5bS1yVkjoGo4L7KJ.jpg', 'genre_ids': [18, 35, 10752], 'id': 597922, 'original_language': 'en', 'original_title': 'The Greatest Beer Run Ever', 'overview': 'Chickie wants to support his friends fighting in Vietnam, so he does something wild—personally bring them American beer. What starts as a well-meaning journey quickly changes Chickie’s life and perspective. Based on a true story.', 'popularity': 753.825, 'poster_path': '/ggf37TpcKaxwguhvtNn6MQpyqBn.jpg', 'release_date': '2022-09-30', 'title': 'The Greatest Beer Run Ever', 'video': False, 'vote_average': 7.8, 'vote_count': 241},\n",
              " {'adult': False, 'backdrop_path': '/gX6VtQ7X6GRvcJQJhFZO9ZJ00q7.jpg', 'genre_ids': [27, 35], 'id': 816952, 'original_language': 'en', 'original_title': \"My Best Friend's Exorcism\", 'overview': 'The year is 1988. Abby and Gretchen have been best friends since fourth grade. After an evening of skinny-dipping goes disastrously wrong, Gretchen begins to act…different, which leads Abby to suspect her best friend may be possessed by a demon. With help from some unlikely allies, Abby embarks on a quest to save Gretchen. But is their friendship powerful enough to beat the devil?', 'popularity': 536.748, 'poster_path': '/yIXICkqthsqbNtvtEd6rpIt3cT4.jpg', 'release_date': '2022-09-29', 'title': \"My Best Friend's Exorcism\", 'video': False, 'vote_average': 6.1, 'vote_count': 83},\n",
              " {'adult': False, 'backdrop_path': '/rHzoz94bRfyfNLjiIB26Wt5KDHE.jpg', 'genre_ids': [28, 80, 35, 12], 'id': 773867, 'original_language': 'ko', 'original_title': '서울대작전', 'overview': 'Chasing speed, dreams and money, a team of drivers get involved in the slush fund investigation of a powerful figure during the 1988 Seoul Olympics.', 'popularity': 594.051, 'poster_path': '/txaOvJ6HURmqFbpVtJezWNWqaR4.jpg', 'release_date': '2022-08-26', 'title': 'Seoul Vibe', 'video': False, 'vote_average': 6.8, 'vote_count': 92},\n",
              " {'adult': False, 'backdrop_path': '/3G1Q5xF40HkUBJXxt2DQgQzKTp5.jpg', 'genre_ids': [16, 35, 10751, 14], 'id': 568124, 'original_language': 'en', 'original_title': 'Encanto', 'overview': \"The tale of an extraordinary family, the Madrigals, who live hidden in the mountains of Colombia, in a magical house, in a vibrant town, in a wondrous, charmed place called an Encanto. The magic of the Encanto has blessed every child in the family—every child except one, Mirabel. But when she discovers that the magic surrounding the Encanto is in danger, Mirabel decides that she, the only ordinary Madrigal, might just be her exceptional family's last hope.\", 'popularity': 564.632, 'poster_path': '/4j0PNHkMr5ax3IA8tjtxcmPU3QT.jpg', 'release_date': '2021-10-13', 'title': 'Encanto', 'video': False, 'vote_average': 7.7, 'vote_count': 7463},\n",
              " {'adult': False, 'backdrop_path': '/c4Fl1cWiXcq4uJdOQudQClFjhho.jpg', 'genre_ids': [14, 35, 10751], 'id': 10439, 'original_language': 'en', 'original_title': 'Hocus Pocus', 'overview': \"After 300 years of slumber, three sister witches are accidentally resurrected in Salem on Halloween night, and it is up to three kids and their newfound feline friend to put an end to the witches' reign of terror once and for all.\", 'popularity': 449.483, 'poster_path': '/by4D4Q9NlUjFSEUA1yrxq6ksXmk.jpg', 'release_date': '1993-07-16', 'title': 'Hocus Pocus', 'video': False, 'vote_average': 7.1, 'vote_count': 2410},\n",
              " {'adult': False, 'backdrop_path': '/1Ds7xy7ILo8u2WWxdnkJth1jQVT.jpg', 'genre_ids': [28, 12, 35], 'id': 752623, 'original_language': 'en', 'original_title': 'The Lost City', 'overview': \"Reclusive author Loretta Sage writes about exotic places in her popular adventure novels that feature a handsome cover model named Alan. While on tour promoting her new book with Alan, Loretta gets kidnapped by an eccentric billionaire who hopes she can lead him to the ancient city's lost treasure that featured in her latest story. Alan, determined to prove he can be a hero in real life and not just on the pages of her books, sets off to rescue her.\", 'popularity': 545.316, 'poster_path': '/neMZH82Stu91d3iqvLdNQfqPPyl.jpg', 'release_date': '2022-03-24', 'title': 'The Lost City', 'video': False, 'vote_average': 6.8, 'vote_count': 2053},\n",
              " {'adult': False, 'backdrop_path': '/9bColKVEAaWfmOLiLZoUhdYfevy.jpg', 'genre_ids': [16, 10751, 35, 878], 'id': 1010818, 'original_language': 'en', 'original_title': \"Groot's First Steps\", 'overview': 'Following the events of “Guardians of the Galaxy Vol. 1,” Baby Groot is finally ready to try taking his first steps out of his pot—only to learn you have to walk before you can run.', 'popularity': 479.87, 'poster_path': '/1ifiV9ZJD4tC3tRYcnLIzH0meaB.jpg', 'release_date': '2022-08-10', 'title': \"Groot's First Steps\", 'video': False, 'vote_average': 7.4, 'vote_count': 169},\n",
              " {'adult': False, 'backdrop_path': '/9mprVUhXPjdpSaiSon44uG9Dnv2.jpg', 'genre_ids': [35, 28], 'id': 838197, 'original_language': 'it', 'original_title': 'Altrimenti ci arrabbiamo', 'overview': \"Carezza and Sorriso, brothers very different from each other and in quarrel since childhood, will have to put aside their controversies to recover the legendary Dune Buggy, once belonged to their beloved father and now stolen from him by Torsillo, an unscrupulous building speculator, and his son Raniero. In doing so, they will forge an unusual alliance with a circus community, headed by the beautiful and dangerous Miriam and threatened by Torsillo's dirty business. Between daring chases, memorable fights and delicate meals based on beer and sausages, will the two brothers be able to find their beloved car?\", 'popularity': 485.469, 'poster_path': '/gfQiGDB6EFKXQJo6eY0qmZIcf41.jpg', 'release_date': '2022-03-23', 'title': \"Watch Out, We're Mad\", 'video': False, 'vote_average': 5.3, 'vote_count': 77}]"
            ]
          },
          "metadata": {},
          "execution_count": 20
        }
      ]
    },
    {
      "cell_type": "code",
      "source": [],
      "metadata": {
        "id": "MvpqSyrN9SXU"
      },
      "execution_count": null,
      "outputs": []
    }
  ]
}